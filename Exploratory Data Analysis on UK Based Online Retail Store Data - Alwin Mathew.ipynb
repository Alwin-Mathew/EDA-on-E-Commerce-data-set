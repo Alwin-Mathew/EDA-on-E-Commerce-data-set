{
 "cells": [
  {
   "cell_type": "markdown",
   "id": "90b6e9f4",
   "metadata": {},
   "source": [
    "# Context of Data \n",
    "  Company - UK-based and registered non-store online retail \n",
    "  \n",
    "  Products for selling - Mainly all-occasion gifts \n",
    "  \n",
    "  Customers - Most are wholesalers (local or international) \n",
    "  \n",
    "  Transactions Period - 1st Dec 2010 - 9th Dec 2011 (One year)"
   ]
  },
  {
   "cell_type": "code",
   "execution_count": 1,
   "id": "e998f9c1",
   "metadata": {},
   "outputs": [],
   "source": [
    "# importing some necessary libraries upfront.\n",
    "import datetime as dt\n",
    "import pandas as pd \n",
    "import numpy as np \n",
    "import seaborn as sns\n",
    "import matplotlib.pyplot as plt\n",
    "%matplotlib inline\n",
    "\n",
    "import warnings\n",
    "warnings.filterwarnings('ignore')"
   ]
  },
  {
   "cell_type": "code",
   "execution_count": 2,
   "id": "cd67d125",
   "metadata": {},
   "outputs": [],
   "source": [
    "df = pd.read_csv('Ecommerce - UK Retailer.csv')"
   ]
  },
  {
   "cell_type": "code",
   "execution_count": 3,
   "id": "47bebe9e",
   "metadata": {
    "scrolled": true
   },
   "outputs": [
    {
     "data": {
      "text/html": [
       "<div>\n",
       "<style scoped>\n",
       "    .dataframe tbody tr th:only-of-type {\n",
       "        vertical-align: middle;\n",
       "    }\n",
       "\n",
       "    .dataframe tbody tr th {\n",
       "        vertical-align: top;\n",
       "    }\n",
       "\n",
       "    .dataframe thead th {\n",
       "        text-align: right;\n",
       "    }\n",
       "</style>\n",
       "<table border=\"1\" class=\"dataframe\">\n",
       "  <thead>\n",
       "    <tr style=\"text-align: right;\">\n",
       "      <th></th>\n",
       "      <th>InvoiceNo</th>\n",
       "      <th>StockCode</th>\n",
       "      <th>Description</th>\n",
       "      <th>Quantity</th>\n",
       "      <th>InvoiceDate</th>\n",
       "      <th>UnitPrice</th>\n",
       "      <th>CustomerID</th>\n",
       "      <th>Country</th>\n",
       "    </tr>\n",
       "  </thead>\n",
       "  <tbody>\n",
       "    <tr>\n",
       "      <th>0</th>\n",
       "      <td>536365</td>\n",
       "      <td>85123A</td>\n",
       "      <td>WHITE HANGING HEART T-LIGHT HOLDER</td>\n",
       "      <td>6</td>\n",
       "      <td>12/1/2010 8:26</td>\n",
       "      <td>2.55</td>\n",
       "      <td>17850.0</td>\n",
       "      <td>United Kingdom</td>\n",
       "    </tr>\n",
       "    <tr>\n",
       "      <th>1</th>\n",
       "      <td>536365</td>\n",
       "      <td>71053</td>\n",
       "      <td>WHITE METAL LANTERN</td>\n",
       "      <td>6</td>\n",
       "      <td>12/1/2010 8:26</td>\n",
       "      <td>3.39</td>\n",
       "      <td>17850.0</td>\n",
       "      <td>United Kingdom</td>\n",
       "    </tr>\n",
       "    <tr>\n",
       "      <th>2</th>\n",
       "      <td>536365</td>\n",
       "      <td>84406B</td>\n",
       "      <td>CREAM CUPID HEARTS COAT HANGER</td>\n",
       "      <td>8</td>\n",
       "      <td>12/1/2010 8:26</td>\n",
       "      <td>2.75</td>\n",
       "      <td>17850.0</td>\n",
       "      <td>United Kingdom</td>\n",
       "    </tr>\n",
       "    <tr>\n",
       "      <th>3</th>\n",
       "      <td>536365</td>\n",
       "      <td>84029G</td>\n",
       "      <td>KNITTED UNION FLAG HOT WATER BOTTLE</td>\n",
       "      <td>6</td>\n",
       "      <td>12/1/2010 8:26</td>\n",
       "      <td>3.39</td>\n",
       "      <td>17850.0</td>\n",
       "      <td>United Kingdom</td>\n",
       "    </tr>\n",
       "    <tr>\n",
       "      <th>4</th>\n",
       "      <td>536365</td>\n",
       "      <td>84029E</td>\n",
       "      <td>RED WOOLLY HOTTIE WHITE HEART.</td>\n",
       "      <td>6</td>\n",
       "      <td>12/1/2010 8:26</td>\n",
       "      <td>3.39</td>\n",
       "      <td>17850.0</td>\n",
       "      <td>United Kingdom</td>\n",
       "    </tr>\n",
       "  </tbody>\n",
       "</table>\n",
       "</div>"
      ],
      "text/plain": [
       "  InvoiceNo StockCode                          Description  Quantity  \\\n",
       "0    536365    85123A   WHITE HANGING HEART T-LIGHT HOLDER         6   \n",
       "1    536365     71053                  WHITE METAL LANTERN         6   \n",
       "2    536365    84406B       CREAM CUPID HEARTS COAT HANGER         8   \n",
       "3    536365    84029G  KNITTED UNION FLAG HOT WATER BOTTLE         6   \n",
       "4    536365    84029E       RED WOOLLY HOTTIE WHITE HEART.         6   \n",
       "\n",
       "      InvoiceDate  UnitPrice  CustomerID         Country  \n",
       "0  12/1/2010 8:26       2.55     17850.0  United Kingdom  \n",
       "1  12/1/2010 8:26       3.39     17850.0  United Kingdom  \n",
       "2  12/1/2010 8:26       2.75     17850.0  United Kingdom  \n",
       "3  12/1/2010 8:26       3.39     17850.0  United Kingdom  \n",
       "4  12/1/2010 8:26       3.39     17850.0  United Kingdom  "
      ]
     },
     "execution_count": 3,
     "metadata": {},
     "output_type": "execute_result"
    }
   ],
   "source": [
    "df.head()"
   ]
  },
  {
   "cell_type": "markdown",
   "id": "751f9dc7",
   "metadata": {},
   "source": [
    "## 1. Perform Basic EDA"
   ]
  },
  {
   "cell_type": "code",
   "execution_count": 4,
   "id": "0dca813c",
   "metadata": {},
   "outputs": [
    {
     "data": {
      "text/plain": [
       "(541909, 8)"
      ]
     },
     "execution_count": 4,
     "metadata": {},
     "output_type": "execute_result"
    }
   ],
   "source": [
    "df.shape"
   ]
  },
  {
   "cell_type": "code",
   "execution_count": 5,
   "id": "0f91d019",
   "metadata": {
    "scrolled": true
   },
   "outputs": [
    {
     "name": "stdout",
     "output_type": "stream",
     "text": [
      "<class 'pandas.core.frame.DataFrame'>\n",
      "RangeIndex: 541909 entries, 0 to 541908\n",
      "Data columns (total 8 columns):\n",
      " #   Column       Non-Null Count   Dtype  \n",
      "---  ------       --------------   -----  \n",
      " 0   InvoiceNo    541909 non-null  object \n",
      " 1   StockCode    541909 non-null  object \n",
      " 2   Description  540455 non-null  object \n",
      " 3   Quantity     541909 non-null  int64  \n",
      " 4   InvoiceDate  541909 non-null  object \n",
      " 5   UnitPrice    541909 non-null  float64\n",
      " 6   CustomerID   406829 non-null  float64\n",
      " 7   Country      541909 non-null  object \n",
      "dtypes: float64(2), int64(1), object(5)\n",
      "memory usage: 33.1+ MB\n"
     ]
    }
   ],
   "source": [
    "df.info()"
   ]
  },
  {
   "cell_type": "markdown",
   "id": "cf07f6fa",
   "metadata": {},
   "source": [
    "Some columns require data type conversions.Let's do that."
   ]
  },
  {
   "cell_type": "code",
   "execution_count": 6,
   "id": "93da084d",
   "metadata": {},
   "outputs": [],
   "source": [
    "# converting the InvoiceDate field to datetime format.\n",
    "\n",
    "df['InvoiceDate'] = pd.to_datetime(df['InvoiceDate'], format='%m/%d/%Y %H:%M')"
   ]
  },
  {
   "cell_type": "code",
   "execution_count": 7,
   "id": "d9134523",
   "metadata": {},
   "outputs": [
    {
     "name": "stdout",
     "output_type": "stream",
     "text": [
      "<class 'pandas.core.frame.DataFrame'>\n",
      "RangeIndex: 541909 entries, 0 to 541908\n",
      "Data columns (total 8 columns):\n",
      " #   Column       Non-Null Count   Dtype         \n",
      "---  ------       --------------   -----         \n",
      " 0   InvoiceNo    541909 non-null  object        \n",
      " 1   StockCode    541909 non-null  object        \n",
      " 2   Description  540455 non-null  object        \n",
      " 3   Quantity     541909 non-null  int64         \n",
      " 4   InvoiceDate  541909 non-null  datetime64[ns]\n",
      " 5   UnitPrice    541909 non-null  float64       \n",
      " 6   CustomerID   406829 non-null  float64       \n",
      " 7   Country      541909 non-null  object        \n",
      "dtypes: datetime64[ns](1), float64(2), int64(1), object(4)\n",
      "memory usage: 33.1+ MB\n"
     ]
    }
   ],
   "source": [
    "df.info()"
   ]
  },
  {
   "cell_type": "code",
   "execution_count": 8,
   "id": "aea0355c",
   "metadata": {},
   "outputs": [
    {
     "data": {
      "text/plain": [
       "InvoiceNo           0\n",
       "StockCode           0\n",
       "Description      1454\n",
       "Quantity            0\n",
       "InvoiceDate         0\n",
       "UnitPrice           0\n",
       "CustomerID     135080\n",
       "Country             0\n",
       "dtype: int64"
      ]
     },
     "execution_count": 8,
     "metadata": {},
     "output_type": "execute_result"
    }
   ],
   "source": [
    "df.isnull().sum()"
   ]
  },
  {
   "cell_type": "markdown",
   "id": "e2db196a",
   "metadata": {},
   "source": [
    "There are certain number of Null values in the 'Description' and 'CustomerID' fields that has to be taken care of."
   ]
  },
  {
   "cell_type": "markdown",
   "id": "68ed2dc3",
   "metadata": {},
   "source": [
    "#### a] Boxplot – All Numeric Variables"
   ]
  },
  {
   "cell_type": "markdown",
   "id": "763c19d7",
   "metadata": {},
   "source": [
    "After the data type conversions Quantity,UnitPrice and CustomerID are the numeric variables we have."
   ]
  },
  {
   "cell_type": "code",
   "execution_count": 9,
   "id": "a247f323",
   "metadata": {},
   "outputs": [
    {
     "data": {
      "text/plain": [
       "Text(0.5, 1.0, 'Unit Price Distribution')"
      ]
     },
     "execution_count": 9,
     "metadata": {},
     "output_type": "execute_result"
    },
    {
     "data": {
      "image/png": "[encoded data removed]",
      "text/plain": [
       "<Figure size 1440x288 with 1 Axes>"
      ]
     },
     "metadata": {
      "needs_background": "light"
     },
     "output_type": "display_data"
    }
   ],
   "source": [
    "plt.subplots(figsize=(20,4))\n",
    "sns.boxplot(df.UnitPrice)\n",
    "\n",
    "plt.xlabel('Unit Price')\n",
    "plt.title('Unit Price Distribution',fontsize=15)\n"
   ]
  },
  {
   "cell_type": "markdown",
   "id": "41b953fa",
   "metadata": {},
   "source": [
    "There are some outliers present in the data."
   ]
  },
  {
   "cell_type": "code",
   "execution_count": 10,
   "id": "8cabbdde",
   "metadata": {},
   "outputs": [
    {
     "data": {
      "text/plain": [
       "Text(0.5, 1.0, 'Quantity Distribution')"
      ]
     },
     "execution_count": 10,
     "metadata": {},
     "output_type": "execute_result"
    },
    {
     "data": {
      "image/png": "[encoded data removed]",
      "text/plain": [
       "<Figure size 1440x288 with 1 Axes>"
      ]
     },
     "metadata": {
      "needs_background": "light"
     },
     "output_type": "display_data"
    }
   ],
   "source": [
    "plt.subplots(figsize=(20,4))\n",
    "sns.boxplot(df.Quantity)\n",
    "\n",
    "plt.xlabel('Quantity')\n",
    "plt.title('Quantity Distribution',fontsize=15)\n"
   ]
  },
  {
   "cell_type": "markdown",
   "id": "23c35d66",
   "metadata": {},
   "source": [
    "There are negative values present in Quantity that doesn't make any sense."
   ]
  },
  {
   "cell_type": "code",
   "execution_count": 11,
   "id": "c9ed91d6",
   "metadata": {
    "scrolled": true
   },
   "outputs": [
    {
     "data": {
      "text/plain": [
       "Text(0.5, 1.0, 'Cust ID Distribution')"
      ]
     },
     "execution_count": 11,
     "metadata": {},
     "output_type": "execute_result"
    },
    {
     "data": {
      "image/png": "[encoded data removed]",
      "text/plain": [
       "<Figure size 1440x288 with 1 Axes>"
      ]
     },
     "metadata": {
      "needs_background": "light"
     },
     "output_type": "display_data"
    }
   ],
   "source": [
    "plt.subplots(figsize=(20,4))\n",
    "sns.boxplot(df.CustomerID)\n",
    "\n",
    "plt.xlabel('Cust ID')\n",
    "plt.title('Cust ID Distribution',fontsize=15)\n"
   ]
  },
  {
   "cell_type": "markdown",
   "id": "38e4e96f",
   "metadata": {},
   "source": [
    "Customer ID is not something with which we do analysis.So there's nothing much to infer from this boxplot."
   ]
  },
  {
   "cell_type": "markdown",
   "id": "6afbc56c",
   "metadata": {},
   "source": [
    "#### b] Histogram – All Numeric Variables "
   ]
  },
  {
   "cell_type": "code",
   "execution_count": 12,
   "id": "aef6d715",
   "metadata": {
    "scrolled": true
   },
   "outputs": [
    {
     "data": {
      "text/plain": [
       "Text(0.5, 1.0, 'Cust ID Distribution')"
      ]
     },
     "execution_count": 12,
     "metadata": {},
     "output_type": "execute_result"
    },
    {
     "data": {
      "image/png": "[encoded data removed]",
      "text/plain": [
       "<Figure size 1440x288 with 3 Axes>"
      ]
     },
     "metadata": {
      "needs_background": "light"
     },
     "output_type": "display_data"
    }
   ],
   "source": [
    "plt.subplots(figsize=(20,4))\n",
    "\n",
    "# Histogram for UnitPrice\n",
    "\n",
    "plt.subplot(1,3,1)\n",
    "plt.hist(df[\"UnitPrice\"])\n",
    "plt.title('Unit Price Distribution',fontsize=15)\n",
    "\n",
    "# Histogram for Quantity\n",
    "\n",
    "plt.subplot(1,3,2)\n",
    "plt.hist(df[\"Quantity\"])\n",
    "plt.title('Quantity Distribution',fontsize=15)\n",
    "\n",
    "# Histogram for CustomerID\n",
    "\n",
    "plt.subplot(1,3,3)\n",
    "plt.hist(df[\"CustomerID\"])\n",
    "plt.title('Cust ID Distribution',fontsize=15)\n"
   ]
  },
  {
   "cell_type": "markdown",
   "id": "da3fce57",
   "metadata": {},
   "source": [
    "From these histograms we can see, to which range our data is concentrated."
   ]
  },
  {
   "cell_type": "markdown",
   "id": "c6189ed3",
   "metadata": {},
   "source": [
    "#### c] Distribution Plot – All Numeric Variables"
   ]
  },
  {
   "cell_type": "code",
   "execution_count": 13,
   "id": "69c841f1",
   "metadata": {},
   "outputs": [
    {
     "data": {
      "text/plain": [
       "Text(0.5, 1.0, 'Cust ID Distribution')"
      ]
     },
     "execution_count": 13,
     "metadata": {},
     "output_type": "execute_result"
    },
    {
     "data": {
      "image/png": "[encoded data removed]",
      "text/plain": [
       "<Figure size 1440x288 with 3 Axes>"
      ]
     },
     "metadata": {
      "needs_background": "light"
     },
     "output_type": "display_data"
    }
   ],
   "source": [
    "plt.subplots(figsize=(20,4))\n",
    "\n",
    "# Distribution plot for UnitPrice\n",
    "\n",
    "plt.subplot(1,3,1)\n",
    "sns.distplot(df.UnitPrice, kde=False)\n",
    "plt.title('Unit Price Distribution',fontsize=15)\n",
    "\n",
    "# Distribution plot for Quantity\n",
    "\n",
    "plt.subplot(1,3,2)\n",
    "sns.distplot(df.Quantity, kde=False)\n",
    "plt.title('Quantity Distribution',fontsize=15)\n",
    "\n",
    "# Distribution plot for CustomerID\n",
    "\n",
    "plt.subplot(1,3,3)\n",
    "sns.distplot(df.CustomerID, kde=False)\n",
    "plt.title('Cust ID Distribution',fontsize=15)"
   ]
  },
  {
   "cell_type": "markdown",
   "id": "cdf9c408",
   "metadata": {},
   "source": [
    "From these distribution plots we can see,how our data is distributed in the available range."
   ]
  },
  {
   "cell_type": "markdown",
   "id": "85057225",
   "metadata": {},
   "source": [
    "#### d] Aggregation for all numerical Columns"
   ]
  },
  {
   "cell_type": "markdown",
   "id": "d408cf05",
   "metadata": {},
   "source": [
    "We have only three numerical coumns to aggregate."
   ]
  },
  {
   "cell_type": "code",
   "execution_count": 14,
   "id": "a12f128b",
   "metadata": {},
   "outputs": [],
   "source": [
    "num_col=df[[\"UnitPrice\",\"Quantity\",\"CustomerID\"]]"
   ]
  },
  {
   "cell_type": "code",
   "execution_count": 15,
   "id": "8b7fc0de",
   "metadata": {},
   "outputs": [
    {
     "data": {
      "text/html": [
       "<div>\n",
       "<style scoped>\n",
       "    .dataframe tbody tr th:only-of-type {\n",
       "        vertical-align: middle;\n",
       "    }\n",
       "\n",
       "    .dataframe tbody tr th {\n",
       "        vertical-align: top;\n",
       "    }\n",
       "\n",
       "    .dataframe thead th {\n",
       "        text-align: right;\n",
       "    }\n",
       "</style>\n",
       "<table border=\"1\" class=\"dataframe\">\n",
       "  <thead>\n",
       "    <tr style=\"text-align: right;\">\n",
       "      <th></th>\n",
       "      <th>UnitPrice</th>\n",
       "      <th>Quantity</th>\n",
       "      <th>CustomerID</th>\n",
       "    </tr>\n",
       "  </thead>\n",
       "  <tbody>\n",
       "    <tr>\n",
       "      <th>0</th>\n",
       "      <td>2.55</td>\n",
       "      <td>6</td>\n",
       "      <td>17850.0</td>\n",
       "    </tr>\n",
       "    <tr>\n",
       "      <th>1</th>\n",
       "      <td>3.39</td>\n",
       "      <td>6</td>\n",
       "      <td>17850.0</td>\n",
       "    </tr>\n",
       "    <tr>\n",
       "      <th>2</th>\n",
       "      <td>2.75</td>\n",
       "      <td>8</td>\n",
       "      <td>17850.0</td>\n",
       "    </tr>\n",
       "    <tr>\n",
       "      <th>3</th>\n",
       "      <td>3.39</td>\n",
       "      <td>6</td>\n",
       "      <td>17850.0</td>\n",
       "    </tr>\n",
       "    <tr>\n",
       "      <th>4</th>\n",
       "      <td>3.39</td>\n",
       "      <td>6</td>\n",
       "      <td>17850.0</td>\n",
       "    </tr>\n",
       "  </tbody>\n",
       "</table>\n",
       "</div>"
      ],
      "text/plain": [
       "   UnitPrice  Quantity  CustomerID\n",
       "0       2.55         6     17850.0\n",
       "1       3.39         6     17850.0\n",
       "2       2.75         8     17850.0\n",
       "3       3.39         6     17850.0\n",
       "4       3.39         6     17850.0"
      ]
     },
     "execution_count": 15,
     "metadata": {},
     "output_type": "execute_result"
    }
   ],
   "source": [
    "num_col.head()"
   ]
  },
  {
   "cell_type": "markdown",
   "id": "fb47d774",
   "metadata": {},
   "source": [
    "'num_col' gives the aggregate table for numerical values."
   ]
  },
  {
   "cell_type": "code",
   "execution_count": 16,
   "id": "783d0ecb",
   "metadata": {},
   "outputs": [
    {
     "data": {
      "text/html": [
       "<div>\n",
       "<style scoped>\n",
       "    .dataframe tbody tr th:only-of-type {\n",
       "        vertical-align: middle;\n",
       "    }\n",
       "\n",
       "    .dataframe tbody tr th {\n",
       "        vertical-align: top;\n",
       "    }\n",
       "\n",
       "    .dataframe thead th {\n",
       "        text-align: right;\n",
       "    }\n",
       "</style>\n",
       "<table border=\"1\" class=\"dataframe\">\n",
       "  <thead>\n",
       "    <tr style=\"text-align: right;\">\n",
       "      <th></th>\n",
       "      <th>UnitPrice</th>\n",
       "      <th>Quantity</th>\n",
       "      <th>CustomerID</th>\n",
       "    </tr>\n",
       "  </thead>\n",
       "  <tbody>\n",
       "    <tr>\n",
       "      <th>count</th>\n",
       "      <td>541909.000000</td>\n",
       "      <td>541909.000000</td>\n",
       "      <td>406829.000000</td>\n",
       "    </tr>\n",
       "    <tr>\n",
       "      <th>mean</th>\n",
       "      <td>4.611114</td>\n",
       "      <td>9.552250</td>\n",
       "      <td>15287.690570</td>\n",
       "    </tr>\n",
       "    <tr>\n",
       "      <th>std</th>\n",
       "      <td>96.759853</td>\n",
       "      <td>218.081158</td>\n",
       "      <td>1713.600303</td>\n",
       "    </tr>\n",
       "    <tr>\n",
       "      <th>min</th>\n",
       "      <td>-11062.060000</td>\n",
       "      <td>-80995.000000</td>\n",
       "      <td>12346.000000</td>\n",
       "    </tr>\n",
       "    <tr>\n",
       "      <th>25%</th>\n",
       "      <td>1.250000</td>\n",
       "      <td>1.000000</td>\n",
       "      <td>13953.000000</td>\n",
       "    </tr>\n",
       "    <tr>\n",
       "      <th>50%</th>\n",
       "      <td>2.080000</td>\n",
       "      <td>3.000000</td>\n",
       "      <td>15152.000000</td>\n",
       "    </tr>\n",
       "    <tr>\n",
       "      <th>75%</th>\n",
       "      <td>4.130000</td>\n",
       "      <td>10.000000</td>\n",
       "      <td>16791.000000</td>\n",
       "    </tr>\n",
       "    <tr>\n",
       "      <th>max</th>\n",
       "      <td>38970.000000</td>\n",
       "      <td>80995.000000</td>\n",
       "      <td>18287.000000</td>\n",
       "    </tr>\n",
       "  </tbody>\n",
       "</table>\n",
       "</div>"
      ],
      "text/plain": [
       "           UnitPrice       Quantity     CustomerID\n",
       "count  541909.000000  541909.000000  406829.000000\n",
       "mean        4.611114       9.552250   15287.690570\n",
       "std        96.759853     218.081158    1713.600303\n",
       "min    -11062.060000  -80995.000000   12346.000000\n",
       "25%         1.250000       1.000000   13953.000000\n",
       "50%         2.080000       3.000000   15152.000000\n",
       "75%         4.130000      10.000000   16791.000000\n",
       "max     38970.000000   80995.000000   18287.000000"
      ]
     },
     "execution_count": 16,
     "metadata": {},
     "output_type": "execute_result"
    }
   ],
   "source": [
    "num_col.describe()"
   ]
  },
  {
   "cell_type": "markdown",
   "id": "14f10ad2",
   "metadata": {},
   "source": [
    "The above table gives a rough idea about various statistical parameters of our data."
   ]
  },
  {
   "cell_type": "markdown",
   "id": "3b9fc464",
   "metadata": {},
   "source": [
    "#### e] Unique Values across all columns"
   ]
  },
  {
   "cell_type": "code",
   "execution_count": 17,
   "id": "181bd9e2",
   "metadata": {
    "scrolled": true
   },
   "outputs": [
    {
     "name": "stdout",
     "output_type": "stream",
     "text": [
      "\u001b[1m InvoiceNo \u001b[0m  :\n",
      " ['536365' '536366' '536367' ... '581585' '581586' '581587']\n",
      "\u001b[1m StockCode \u001b[0m  :\n",
      " ['85123A' '71053' '84406B' ... '90214U' '47591b' '23843']\n",
      "\u001b[1m Description \u001b[0m  :\n",
      " ['WHITE HANGING HEART T-LIGHT HOLDER' 'WHITE METAL LANTERN'\n",
      " 'CREAM CUPID HEARTS COAT HANGER' ... 'lost'\n",
      " 'CREAM HANGING HEART T-LIGHT HOLDER' 'PAPER CRAFT , LITTLE BIRDIE']\n",
      "\u001b[1m Quantity \u001b[0m  :\n",
      " [     6      8      2     32      3      4     24     12     48     18\n",
      "     20     36     80     64     10    120     96     23      5      1\n",
      "     -1     50     40    100    192    432    144    288    -12    -24\n",
      "     16      9    128     25     30     28      7     56     72    200\n",
      "    600    480     -6     14     -2     11     33     13     -4     -5\n",
      "     -7     -3     70    252     60    216    384    -10     27     15\n",
      "     22     19     17     21     34     47    108     52  -9360    -38\n",
      "     75    270     42    240     90    320   1824    204     69    -36\n",
      "   -192   -144    160   2880   1400     39    -48    -50     26   1440\n",
      "     31     82     78     97     98     35     57    -20    110    -22\n",
      "    -30    -70   -130    -80   -120    -40    -25    -14    -15    -69\n",
      "   -140   -320     -8    720    156    324     38     37     49     95\n",
      "     -9    -11     29     41    -72    -35    -21    -43    -19    -18\n",
      "    -44    402    378    150    300     54    104     67    258     66\n",
      "     44     55     46     99     61    408    972    208   1008   1000\n",
      "    -77   1488    250   1394    400   -223   -150    -13    -33   -723\n",
      "   -177     79     84    -32   -100    -28    272   -145    -47    -96\n",
      "    113     45    106     68    267    115     65   1728    -60    -16\n",
      "     53   -240     76    460     71     43    213     58    576   2400\n",
      "    500    180   -300   -500    -23    752    960   1296    210    172\n",
      "    215    129    138    116    135    197   -106    -54    -17   -939\n",
      "    147    168    256   -201    -53    -29  -2600   -990   -290    -45\n",
      "    860   1010   1356   1284    186    114    360   1930   2000   3114\n",
      "   1300    670    111    211     59   -310    -61    -41    176    648\n",
      "     62  74215 -74215    -64    -84     89  -1400     73    -57    112\n",
      "    456    -59    -31   5568   2560    136    900   -600    -42    -94\n",
      "   -207    -52    130   -206   2592    420    800    101   1200    864\n",
      "   -217     94  -1430   1287   -162   -230   -173   -390   -234    504\n",
      "    123    118    -76   -200   1056   1500    280    407    141    124\n",
      "    -99     51    -92   -741   3906   -400   -114    102   1152    -88\n",
      "    198    117     86   -720    125    -86   -391    -87   -278    140\n",
      "    228   -154  -3000     81   -675   -210   -345   -975  -1200  -1121\n",
      "    -27   -541  -1277   -197   3000  -1100    -63  -5368    219   -259\n",
      "    232    -82   -178    170   -110    768     88    700   -102   2160\n",
      "   -323   -450   -232    -83   -153   -524  -2472    -49   -105    342\n",
      "    304    167    -34    640    175    220     74     93    164    163\n",
      "     63    637    122    158    165    350    -46    -75   -690    -39\n",
      "    -66     83    312   -180    392   -624   -194    -26    -62    -37\n",
      "    -91   -139   -158  -1479    -55   -576   -750    330    151    -93\n",
      "   -432    -58  -1092   -670  -1300  -1930  -2000  -3114    462    -65\n",
      "    -68    492   -620    273    -90   -170  -1512    -51     85    -56\n",
      "   -160   -360    105   -960  -2376   1350    428  -1350    336   -786\n",
      "   -590   -168   -101    -71    132   -413   -664    227   2700    222\n",
      "    246    906    756    888    552    -97    224    738    608   -212\n",
      "   4300    146    143    276   -125   -116   -108   4000   -304   -272\n",
      "  -1206    -95   1600    323   -161   -472   -618   -204   1515  -1515\n",
      "  -9058  -9600    660   -420   -126   -220   -271  -1440    264    188\n",
      "    588    612    152   -324   -480   -164    -78   -118    430  -1681\n",
      "     87    155    701    828    540    696    560   -250   -408   -179\n",
      "    121   -124    512   -251  -3100   3100   -169    126    291   3186\n",
      "  -2834   -109    109   -121   -530   -227    261   -346    352    142\n",
      "    107   -188  -1060   -342   -288    348   1900    157   -343   -455\n",
      "    425    968    684    824   -828   -701    196    248    410    236\n",
      "    230   -156   -553    145    448    245   -252   -334   -318   -113\n",
      "   -115    171   -242    840   -967   -203  -3167   -443  -1897    225\n",
      "   -434    750   -682   -484    682    344   -635   -117  -3667    450\n",
      "    310    494   -384     92   1788   -138    624    744    416    496\n",
      "    396    306   1878   1944    666    708   1428    852   1412    528\n",
      "   -756   -752   -152    -85   -312    -79   -147    -67   -131    183\n",
      "   -209   -186   -231   -129   -458   -275  -2880   1540    672   -800\n",
      "   -430   -380    -74   -840  -1296   -365   -104   -270    -73   -306\n",
      "     91    255    468   -468   -111   -184   -103   -335   4800   -112\n",
      "  -1000    912   1992    184    148   -657  -1671  -1158  -2618  -2003\n",
      "   -674  -4830   -905  -1128    832    992    630   1020   2100    162\n",
      "  -1560  -1284    -81    314    370    131    133    484    149    153\n",
      "    257    139    137    628    179   1820    478    335    253    242\n",
      "    375   -276   -256    281    193    181    404    244    207    199\n",
      "   1130    326    654    688    268    249   -864    234  -1510   -550\n",
      "   -244   -132   -327   -313    279   -398   -280    374   -504   -696\n",
      "   -149   -224   -428    212   -267   -175  12540    760    -98    774\n",
      "   -151   2040  -1131   -135   1120     77   -900    177    490    388\n",
      "    620   1404   -155   -355   -337  -1050   -338    205   -235    698\n",
      "  80995 -80995]\n",
      "\u001b[1m InvoiceDate \u001b[0m  :\n",
      " ['2010-12-01T08:26:00.000000000' '2010-12-01T08:28:00.000000000'\n",
      " '2010-12-01T08:34:00.000000000' ... '2011-12-09T12:31:00.000000000'\n",
      " '2011-12-09T12:49:00.000000000' '2011-12-09T12:50:00.000000000']\n",
      "\u001b[1m UnitPrice \u001b[0m  :\n",
      " [   2.55    3.39    2.75 ...  933.17 1714.17  224.69]\n",
      "\u001b[1m CustomerID \u001b[0m  :\n",
      " [17850. 13047. 12583. ... 13298. 14569. 12713.]\n",
      "\u001b[1m Country \u001b[0m  :\n",
      " ['United Kingdom' 'France' 'Australia' 'Netherlands' 'Germany' 'Norway'\n",
      " 'EIRE' 'Switzerland' 'Spain' 'Poland' 'Portugal' 'Italy' 'Belgium'\n",
      " 'Lithuania' 'Japan' 'Iceland' 'Channel Islands' 'Denmark' 'Cyprus'\n",
      " 'Sweden' 'Austria' 'Israel' 'Finland' 'Bahrain' 'Greece' 'Hong Kong'\n",
      " 'Singapore' 'Lebanon' 'United Arab Emirates' 'Saudi Arabia'\n",
      " 'Czech Republic' 'Canada' 'Unspecified' 'Brazil' 'USA'\n",
      " 'European Community' 'Malta' 'RSA']\n"
     ]
    }
   ],
   "source": [
    "for col in df:\n",
    "    print(\"\\033[1m\",col,\"\\033[0m\",\" :\\n\",df[col].unique())"
   ]
  },
  {
   "cell_type": "markdown",
   "id": "71416f9b",
   "metadata": {},
   "source": [
    "It's meaningless to look for unique values in numerical columns.So let's consider only the categorical columns' unique values."
   ]
  },
  {
   "cell_type": "code",
   "execution_count": 18,
   "id": "dba46c55",
   "metadata": {},
   "outputs": [
    {
     "name": "stdout",
     "output_type": "stream",
     "text": [
      "\u001b[1m InvoiceNo \u001b[0m  :\n",
      " ['536365' '536366' '536367' ... '581585' '581586' '581587'] \n",
      "\n",
      "\u001b[1m StockCode \u001b[0m  :\n",
      " ['85123A' '71053' '84406B' ... '90214U' '47591b' '23843'] \n",
      "\n",
      "\u001b[1m Description \u001b[0m  :\n",
      " ['WHITE HANGING HEART T-LIGHT HOLDER' 'WHITE METAL LANTERN'\n",
      " 'CREAM CUPID HEARTS COAT HANGER' ... 'lost'\n",
      " 'CREAM HANGING HEART T-LIGHT HOLDER' 'PAPER CRAFT , LITTLE BIRDIE'] \n",
      "\n",
      "\u001b[1m InvoiceDate \u001b[0m  :\n",
      " ['2010-12-01T08:26:00.000000000' '2010-12-01T08:28:00.000000000'\n",
      " '2010-12-01T08:34:00.000000000' ... '2011-12-09T12:31:00.000000000'\n",
      " '2011-12-09T12:49:00.000000000' '2011-12-09T12:50:00.000000000'] \n",
      "\n",
      "\u001b[1m Country \u001b[0m  :\n",
      " ['United Kingdom' 'France' 'Australia' 'Netherlands' 'Germany' 'Norway'\n",
      " 'EIRE' 'Switzerland' 'Spain' 'Poland' 'Portugal' 'Italy' 'Belgium'\n",
      " 'Lithuania' 'Japan' 'Iceland' 'Channel Islands' 'Denmark' 'Cyprus'\n",
      " 'Sweden' 'Austria' 'Israel' 'Finland' 'Bahrain' 'Greece' 'Hong Kong'\n",
      " 'Singapore' 'Lebanon' 'United Arab Emirates' 'Saudi Arabia'\n",
      " 'Czech Republic' 'Canada' 'Unspecified' 'Brazil' 'USA'\n",
      " 'European Community' 'Malta' 'RSA'] \n",
      "\n"
     ]
    }
   ],
   "source": [
    "cat_col=['InvoiceNo','StockCode','Description','InvoiceDate','Country']\n",
    "\n",
    "for col in cat_col:\n",
    "    print(\"\\033[1m\",col,\"\\033[0m\",\" :\\n\",df[col].unique(),\"\\n\")"
   ]
  },
  {
   "cell_type": "code",
   "execution_count": 19,
   "id": "1671a69a",
   "metadata": {},
   "outputs": [
    {
     "data": {
      "text/plain": [
       "InvoiceNo      25900\n",
       "StockCode       4070\n",
       "Description     4223\n",
       "Quantity         722\n",
       "InvoiceDate    23260\n",
       "UnitPrice       1630\n",
       "CustomerID      4372\n",
       "Country           38\n",
       "dtype: int64"
      ]
     },
     "execution_count": 19,
     "metadata": {},
     "output_type": "execute_result"
    }
   ],
   "source": [
    "#let's look for no.of unique values in each column.\n",
    "\n",
    "df.nunique(axis=0)"
   ]
  },
  {
   "cell_type": "markdown",
   "id": "d873b8ea",
   "metadata": {},
   "source": [
    "The above data shows the no.of unique values available in each columns.From that we get the idea that we are dealing with the data of 4372 customers from 32 different countries."
   ]
  },
  {
   "cell_type": "markdown",
   "id": "b6255673",
   "metadata": {},
   "source": [
    "#### f] Duplicate values across all columns"
   ]
  },
  {
   "cell_type": "code",
   "execution_count": 20,
   "id": "fbe813ac",
   "metadata": {
    "scrolled": false
   },
   "outputs": [
    {
     "data": {
      "text/html": [
       "<div>\n",
       "<style scoped>\n",
       "    .dataframe tbody tr th:only-of-type {\n",
       "        vertical-align: middle;\n",
       "    }\n",
       "\n",
       "    .dataframe tbody tr th {\n",
       "        vertical-align: top;\n",
       "    }\n",
       "\n",
       "    .dataframe thead th {\n",
       "        text-align: right;\n",
       "    }\n",
       "</style>\n",
       "<table border=\"1\" class=\"dataframe\">\n",
       "  <thead>\n",
       "    <tr style=\"text-align: right;\">\n",
       "      <th></th>\n",
       "      <th>InvoiceNo</th>\n",
       "      <th>StockCode</th>\n",
       "      <th>Description</th>\n",
       "      <th>Quantity</th>\n",
       "      <th>InvoiceDate</th>\n",
       "      <th>UnitPrice</th>\n",
       "      <th>CustomerID</th>\n",
       "      <th>Country</th>\n",
       "    </tr>\n",
       "  </thead>\n",
       "  <tbody>\n",
       "    <tr>\n",
       "      <th>517</th>\n",
       "      <td>536409</td>\n",
       "      <td>21866</td>\n",
       "      <td>UNION JACK FLAG LUGGAGE TAG</td>\n",
       "      <td>1</td>\n",
       "      <td>2010-12-01 11:45:00</td>\n",
       "      <td>1.25</td>\n",
       "      <td>17908.0</td>\n",
       "      <td>United Kingdom</td>\n",
       "    </tr>\n",
       "    <tr>\n",
       "      <th>527</th>\n",
       "      <td>536409</td>\n",
       "      <td>22866</td>\n",
       "      <td>HAND WARMER SCOTTY DOG DESIGN</td>\n",
       "      <td>1</td>\n",
       "      <td>2010-12-01 11:45:00</td>\n",
       "      <td>2.10</td>\n",
       "      <td>17908.0</td>\n",
       "      <td>United Kingdom</td>\n",
       "    </tr>\n",
       "    <tr>\n",
       "      <th>537</th>\n",
       "      <td>536409</td>\n",
       "      <td>22900</td>\n",
       "      <td>SET 2 TEA TOWELS I LOVE LONDON</td>\n",
       "      <td>1</td>\n",
       "      <td>2010-12-01 11:45:00</td>\n",
       "      <td>2.95</td>\n",
       "      <td>17908.0</td>\n",
       "      <td>United Kingdom</td>\n",
       "    </tr>\n",
       "    <tr>\n",
       "      <th>539</th>\n",
       "      <td>536409</td>\n",
       "      <td>22111</td>\n",
       "      <td>SCOTTIE DOG HOT WATER BOTTLE</td>\n",
       "      <td>1</td>\n",
       "      <td>2010-12-01 11:45:00</td>\n",
       "      <td>4.95</td>\n",
       "      <td>17908.0</td>\n",
       "      <td>United Kingdom</td>\n",
       "    </tr>\n",
       "    <tr>\n",
       "      <th>555</th>\n",
       "      <td>536412</td>\n",
       "      <td>22327</td>\n",
       "      <td>ROUND SNACK BOXES SET OF 4 SKULLS</td>\n",
       "      <td>1</td>\n",
       "      <td>2010-12-01 11:49:00</td>\n",
       "      <td>2.95</td>\n",
       "      <td>17920.0</td>\n",
       "      <td>United Kingdom</td>\n",
       "    </tr>\n",
       "    <tr>\n",
       "      <th>...</th>\n",
       "      <td>...</td>\n",
       "      <td>...</td>\n",
       "      <td>...</td>\n",
       "      <td>...</td>\n",
       "      <td>...</td>\n",
       "      <td>...</td>\n",
       "      <td>...</td>\n",
       "      <td>...</td>\n",
       "    </tr>\n",
       "    <tr>\n",
       "      <th>541675</th>\n",
       "      <td>581538</td>\n",
       "      <td>22068</td>\n",
       "      <td>BLACK PIRATE TREASURE CHEST</td>\n",
       "      <td>1</td>\n",
       "      <td>2011-12-09 11:34:00</td>\n",
       "      <td>0.39</td>\n",
       "      <td>14446.0</td>\n",
       "      <td>United Kingdom</td>\n",
       "    </tr>\n",
       "    <tr>\n",
       "      <th>541689</th>\n",
       "      <td>581538</td>\n",
       "      <td>23318</td>\n",
       "      <td>BOX OF 6 MINI VINTAGE CRACKERS</td>\n",
       "      <td>1</td>\n",
       "      <td>2011-12-09 11:34:00</td>\n",
       "      <td>2.49</td>\n",
       "      <td>14446.0</td>\n",
       "      <td>United Kingdom</td>\n",
       "    </tr>\n",
       "    <tr>\n",
       "      <th>541692</th>\n",
       "      <td>581538</td>\n",
       "      <td>22992</td>\n",
       "      <td>REVOLVER WOODEN RULER</td>\n",
       "      <td>1</td>\n",
       "      <td>2011-12-09 11:34:00</td>\n",
       "      <td>1.95</td>\n",
       "      <td>14446.0</td>\n",
       "      <td>United Kingdom</td>\n",
       "    </tr>\n",
       "    <tr>\n",
       "      <th>541699</th>\n",
       "      <td>581538</td>\n",
       "      <td>22694</td>\n",
       "      <td>WICKER STAR</td>\n",
       "      <td>1</td>\n",
       "      <td>2011-12-09 11:34:00</td>\n",
       "      <td>2.10</td>\n",
       "      <td>14446.0</td>\n",
       "      <td>United Kingdom</td>\n",
       "    </tr>\n",
       "    <tr>\n",
       "      <th>541701</th>\n",
       "      <td>581538</td>\n",
       "      <td>23343</td>\n",
       "      <td>JUMBO BAG VINTAGE CHRISTMAS</td>\n",
       "      <td>1</td>\n",
       "      <td>2011-12-09 11:34:00</td>\n",
       "      <td>2.08</td>\n",
       "      <td>14446.0</td>\n",
       "      <td>United Kingdom</td>\n",
       "    </tr>\n",
       "  </tbody>\n",
       "</table>\n",
       "<p>5268 rows × 8 columns</p>\n",
       "</div>"
      ],
      "text/plain": [
       "       InvoiceNo StockCode                        Description  Quantity  \\\n",
       "517       536409     21866        UNION JACK FLAG LUGGAGE TAG         1   \n",
       "527       536409     22866      HAND WARMER SCOTTY DOG DESIGN         1   \n",
       "537       536409     22900    SET 2 TEA TOWELS I LOVE LONDON          1   \n",
       "539       536409     22111       SCOTTIE DOG HOT WATER BOTTLE         1   \n",
       "555       536412     22327  ROUND SNACK BOXES SET OF 4 SKULLS         1   \n",
       "...          ...       ...                                ...       ...   \n",
       "541675    581538     22068        BLACK PIRATE TREASURE CHEST         1   \n",
       "541689    581538     23318     BOX OF 6 MINI VINTAGE CRACKERS         1   \n",
       "541692    581538     22992             REVOLVER WOODEN RULER          1   \n",
       "541699    581538     22694                       WICKER STAR          1   \n",
       "541701    581538     23343       JUMBO BAG VINTAGE CHRISTMAS          1   \n",
       "\n",
       "               InvoiceDate  UnitPrice  CustomerID         Country  \n",
       "517    2010-12-01 11:45:00       1.25     17908.0  United Kingdom  \n",
       "527    2010-12-01 11:45:00       2.10     17908.0  United Kingdom  \n",
       "537    2010-12-01 11:45:00       2.95     17908.0  United Kingdom  \n",
       "539    2010-12-01 11:45:00       4.95     17908.0  United Kingdom  \n",
       "555    2010-12-01 11:49:00       2.95     17920.0  United Kingdom  \n",
       "...                    ...        ...         ...             ...  \n",
       "541675 2011-12-09 11:34:00       0.39     14446.0  United Kingdom  \n",
       "541689 2011-12-09 11:34:00       2.49     14446.0  United Kingdom  \n",
       "541692 2011-12-09 11:34:00       1.95     14446.0  United Kingdom  \n",
       "541699 2011-12-09 11:34:00       2.10     14446.0  United Kingdom  \n",
       "541701 2011-12-09 11:34:00       2.08     14446.0  United Kingdom  \n",
       "\n",
       "[5268 rows x 8 columns]"
      ]
     },
     "execution_count": 20,
     "metadata": {},
     "output_type": "execute_result"
    }
   ],
   "source": [
    "# plot the table with only duplicate values\n",
    "\n",
    "df[df.duplicated()]"
   ]
  },
  {
   "cell_type": "markdown",
   "id": "aae0e0b9",
   "metadata": {},
   "source": [
    "The table above gives the duplicate values in our dataset."
   ]
  },
  {
   "cell_type": "code",
   "execution_count": 21,
   "id": "e1681e9f",
   "metadata": {},
   "outputs": [
    {
     "data": {
      "text/plain": [
       "InvoiceNo      5268\n",
       "StockCode      5268\n",
       "Description    5268\n",
       "Quantity       5268\n",
       "InvoiceDate    5268\n",
       "UnitPrice      5268\n",
       "CustomerID     5225\n",
       "Country        5268\n",
       "dtype: int64"
      ]
     },
     "execution_count": 21,
     "metadata": {},
     "output_type": "execute_result"
    }
   ],
   "source": [
    "# no.of duplicate values in each column.\n",
    "\n",
    "df[df.duplicated()].count()"
   ]
  },
  {
   "cell_type": "markdown",
   "id": "8a01c0bd",
   "metadata": {},
   "source": [
    "The above information clearly gives us the no.of duplicate values available in every column. It is not good to keep them as such, as it is going to reduce the accuracy of our analysis."
   ]
  },
  {
   "cell_type": "markdown",
   "id": "07e9171d",
   "metadata": {},
   "source": [
    "#### g] Correlation – Heatmap - All Numeric Variables"
   ]
  },
  {
   "cell_type": "code",
   "execution_count": 22,
   "id": "91aba8b6",
   "metadata": {},
   "outputs": [
    {
     "data": {
      "text/plain": [
       "<AxesSubplot:>"
      ]
     },
     "execution_count": 22,
     "metadata": {},
     "output_type": "execute_result"
    },
    {
     "data": {
      "image/png": "[encoded data removed]",
      "text/plain": [
       "<Figure size 864x504 with 2 Axes>"
      ]
     },
     "metadata": {
      "needs_background": "light"
     },
     "output_type": "display_data"
    }
   ],
   "source": [
    "plt.figure(figsize=(12,7))\n",
    "\n",
    "# Heatmap shwoing correlation between all numeric variables.\n",
    "\n",
    "sns.heatmap(df.corr(), cmap=\"Reds\", annot=True)"
   ]
  },
  {
   "cell_type": "markdown",
   "id": "fae29a50",
   "metadata": {},
   "source": [
    "Almost all of the variables have a correlation close to zero.So there is no significant correlation between these numerical fields."
   ]
  },
  {
   "cell_type": "markdown",
   "id": "9572ad9b",
   "metadata": {},
   "source": [
    "#### h] Regression Plot - All Numeric Variables"
   ]
  },
  {
   "cell_type": "code",
   "execution_count": 23,
   "id": "20c58a31",
   "metadata": {},
   "outputs": [
    {
     "data": {
      "text/plain": [
       "<seaborn.axisgrid.FacetGrid at 0x276aacb7d00>"
      ]
     },
     "execution_count": 23,
     "metadata": {},
     "output_type": "execute_result"
    },
    {
     "data": {
      "image/png": "[encoded data removed]",
      "text/plain": [
       "<Figure size 360x360 with 1 Axes>"
      ]
     },
     "metadata": {
      "needs_background": "light"
     },
     "output_type": "display_data"
    }
   ],
   "source": [
    "# regression plot between price and quantity\n",
    "\n",
    "sns.lmplot('UnitPrice','Quantity',data=df)"
   ]
  },
  {
   "cell_type": "markdown",
   "id": "9cef747c",
   "metadata": {},
   "source": [
    "There is no evident relationship among unit price and quanity."
   ]
  },
  {
   "cell_type": "markdown",
   "id": "f8417b7d",
   "metadata": {},
   "source": [
    "#### i] Bar Plot – Every Categorical Variable vs every Numerical Variable"
   ]
  },
  {
   "cell_type": "code",
   "execution_count": 24,
   "id": "e7fb1c5e",
   "metadata": {},
   "outputs": [
    {
     "name": "stdout",
     "output_type": "stream",
     "text": [
      "<class 'pandas.core.frame.DataFrame'>\n",
      "RangeIndex: 541909 entries, 0 to 541908\n",
      "Data columns (total 8 columns):\n",
      " #   Column       Non-Null Count   Dtype         \n",
      "---  ------       --------------   -----         \n",
      " 0   InvoiceNo    541909 non-null  object        \n",
      " 1   StockCode    541909 non-null  object        \n",
      " 2   Description  540455 non-null  object        \n",
      " 3   Quantity     541909 non-null  int64         \n",
      " 4   InvoiceDate  541909 non-null  datetime64[ns]\n",
      " 5   UnitPrice    541909 non-null  float64       \n",
      " 6   CustomerID   406829 non-null  float64       \n",
      " 7   Country      541909 non-null  object        \n",
      "dtypes: datetime64[ns](1), float64(2), int64(1), object(4)\n",
      "memory usage: 33.1+ MB\n"
     ]
    }
   ],
   "source": [
    "df.info()"
   ]
  },
  {
   "cell_type": "markdown",
   "id": "d0edaf75",
   "metadata": {},
   "source": [
    "It's not meaningful to compare every categorical and numerical variables."
   ]
  },
  {
   "cell_type": "code",
   "execution_count": 25,
   "id": "cc27e6d9",
   "metadata": {
    "scrolled": true
   },
   "outputs": [
    {
     "data": {
      "text/plain": [
       "Text(0.5, 1.0, 'Countrywise Quantity of Items')"
      ]
     },
     "execution_count": 25,
     "metadata": {},
     "output_type": "execute_result"
    },
    {
     "data": {
      "image/png": "[encoded data removed]",
      "text/plain": [
       "<Figure size 1440x720 with 1 Axes>"
      ]
     },
     "metadata": {
      "needs_background": "light"
     },
     "output_type": "display_data"
    }
   ],
   "source": [
    "# Let's compare the no.of qunatity of orders delivered to different countries.\n",
    "\n",
    "Countrywise_quantity=df.groupby('Country')['Quantity'].count().sort_values()\n",
    "\n",
    "plt.subplots(figsize=(20,10))\n",
    "Countrywise_quantity.plot(kind='barh',color='darkgreen', fontsize=10)\n",
    "plt.xlabel('Quantity')\n",
    "\n",
    "plt.title('Countrywise Quantity of Items',fontsize=20,color='navy')\n"
   ]
  },
  {
   "cell_type": "markdown",
   "id": "169d51bb",
   "metadata": {},
   "source": [
    "The above graph gives an idea about the quantity of items purchased by different countries."
   ]
  },
  {
   "cell_type": "markdown",
   "id": "a1d4a57b",
   "metadata": {},
   "source": [
    "We will go a deep into this later in our analysis.Let's now do what we are asked to do."
   ]
  },
  {
   "cell_type": "code",
   "execution_count": 26,
   "id": "26a82fc5",
   "metadata": {},
   "outputs": [
    {
     "data": {
      "text/plain": [
       "Text(0.5, 1.0, 'Countrywise Mean Unit Price')"
      ]
     },
     "execution_count": 26,
     "metadata": {},
     "output_type": "execute_result"
    },
    {
     "data": {
      "image/png": "[encoded data removed]",
      "text/plain": [
       "<Figure size 1440x720 with 1 Axes>"
      ]
     },
     "metadata": {
      "needs_background": "light"
     },
     "output_type": "display_data"
    }
   ],
   "source": [
    "# Let's look for the mean price at which products are sold at different countries.\n",
    "\n",
    "mean_price=df.groupby('Country')['UnitPrice'].mean().sort_values()\n",
    "\n",
    "plt.subplots(figsize=(20,10))\n",
    "mean_price.plot(kind='barh',color='darkgreen', fontsize=10)\n",
    "plt.xlabel('Mean unit price')\n",
    "\n",
    "plt.title('Countrywise Mean Unit Price',fontsize=20,color='navy')\n"
   ]
  },
  {
   "cell_type": "markdown",
   "id": "1ca76435",
   "metadata": {},
   "source": [
    "We can see that the mean unit price is high for countries like Singapore and Hongkong."
   ]
  },
  {
   "cell_type": "markdown",
   "id": "2eec5208",
   "metadata": {},
   "source": [
    "#### j] Pair plot - All Numeric Variables "
   ]
  },
  {
   "cell_type": "code",
   "execution_count": 27,
   "id": "2ab28425",
   "metadata": {},
   "outputs": [
    {
     "data": {
      "text/plain": [
       "<seaborn.axisgrid.PairGrid at 0x276aa7a1430>"
      ]
     },
     "execution_count": 27,
     "metadata": {},
     "output_type": "execute_result"
    },
    {
     "data": {
      "image/png": "[encoded data removed]",
      "text/plain": [
       "<Figure size 540x540 with 12 Axes>"
      ]
     },
     "metadata": {
      "needs_background": "light"
     },
     "output_type": "display_data"
    }
   ],
   "source": [
    "sns.pairplot(df.sample(1000),vars=['UnitPrice','Quantity', 'CustomerID'])"
   ]
  },
  {
   "cell_type": "markdown",
   "id": "c7717bfc",
   "metadata": {},
   "source": [
    "I think there is a relationship between Quantity and Unit Price.For lower order quantities the unit price varies in a wide range.But for Higher quantities the unit price is consistently low."
   ]
  },
  {
   "cell_type": "markdown",
   "id": "04a6dfdf",
   "metadata": {},
   "source": [
    "#### k] Line chart to show the trend of data - All Numeric/Date Variables "
   ]
  },
  {
   "cell_type": "markdown",
   "id": "125502ff",
   "metadata": {},
   "source": [
    "Let's look how the unit price varies over time."
   ]
  },
  {
   "cell_type": "code",
   "execution_count": 28,
   "id": "9dff3ee1",
   "metadata": {
    "scrolled": false
   },
   "outputs": [
    {
     "data": {
      "text/plain": [
       "<AxesSubplot:title={'center':'Change of Price over time '}, xlabel='InvoiceDate'>"
      ]
     },
     "execution_count": 28,
     "metadata": {},
     "output_type": "execute_result"
    },
    {
     "data": {
      "image/png": "[encoded data removed]",
      "text/plain": [
       "<Figure size 1152x288 with 1 Axes>"
      ]
     },
     "metadata": {
      "needs_background": "light"
     },
     "output_type": "display_data"
    }
   ],
   "source": [
    "df.plot('InvoiceDate','UnitPrice','line',figsize=(16,4),title=\"Change of Price over time \")"
   ]
  },
  {
   "cell_type": "markdown",
   "id": "814b2da0",
   "metadata": {},
   "source": [
    "Let's look how the Quantity varies over time."
   ]
  },
  {
   "cell_type": "code",
   "execution_count": 29,
   "id": "1b2432ba",
   "metadata": {},
   "outputs": [
    {
     "data": {
      "text/plain": [
       "<AxesSubplot:title={'center':'Change of Quantity sold over time '}, xlabel='InvoiceDate'>"
      ]
     },
     "execution_count": 29,
     "metadata": {},
     "output_type": "execute_result"
    },
    {
     "data": {
      "image/png": "[encoded data removed]",
      "text/plain": [
       "<Figure size 1152x288 with 1 Axes>"
      ]
     },
     "metadata": {
      "needs_background": "light"
     },
     "output_type": "display_data"
    }
   ],
   "source": [
    "df.plot('InvoiceDate','Quantity','line',figsize=(16,4),title=\"Change of Quantity sold over time \")"
   ]
  },
  {
   "cell_type": "markdown",
   "id": "6d44f01c",
   "metadata": {},
   "source": [
    "#### l] Plot the skewness - All Numeric Variables"
   ]
  },
  {
   "cell_type": "code",
   "execution_count": 30,
   "id": "6527dcdf",
   "metadata": {
    "scrolled": true
   },
   "outputs": [
    {
     "data": {
      "text/plain": [
       "<AxesSubplot:xlabel='CustomerID', ylabel='Density'>"
      ]
     },
     "execution_count": 30,
     "metadata": {},
     "output_type": "execute_result"
    },
    {
     "data": {
      "image/png": "[encoded data removed]",
      "text/plain": [
       "<Figure size 1440x288 with 3 Axes>"
      ]
     },
     "metadata": {
      "needs_background": "light"
     },
     "output_type": "display_data"
    }
   ],
   "source": [
    "plt.subplots(figsize=(20,4))\n",
    "\n",
    "plt.subplot(1,3,1)\n",
    "sns.distplot(df[\"UnitPrice\"])\n",
    "\n",
    "plt.subplot(1,3,2)\n",
    "sns.distplot(df[\"Quantity\"])\n",
    "\n",
    "plt.subplot(1,3,3)\n",
    "sns.distplot(df[\"CustomerID\"])"
   ]
  },
  {
   "cell_type": "markdown",
   "id": "ec406965",
   "metadata": {},
   "source": [
    "Since tha data is not clean enough we can't make many conclusion right now.Let's move ahead and refer these plots when the necessity arises"
   ]
  },
  {
   "cell_type": "markdown",
   "id": "4ff9b3da",
   "metadata": {},
   "source": [
    "## 2. Check for missing values in all columns and replace them with the appropriate metric (Mean/Median/Mode)"
   ]
  },
  {
   "cell_type": "code",
   "execution_count": 31,
   "id": "2afcf407",
   "metadata": {},
   "outputs": [
    {
     "data": {
      "text/plain": [
       "InvoiceNo           0\n",
       "StockCode           0\n",
       "Description      1454\n",
       "Quantity            0\n",
       "InvoiceDate         0\n",
       "UnitPrice           0\n",
       "CustomerID     135080\n",
       "Country             0\n",
       "dtype: int64"
      ]
     },
     "execution_count": 31,
     "metadata": {},
     "output_type": "execute_result"
    }
   ],
   "source": [
    "df.isnull().sum()"
   ]
  },
  {
   "cell_type": "markdown",
   "id": "2c262df4",
   "metadata": {},
   "source": [
    "There are null values in CustomerID and Description columns.We have to impute them with a suitable metric."
   ]
  },
  {
   "cell_type": "code",
   "execution_count": 32,
   "id": "ebaa7b57",
   "metadata": {},
   "outputs": [
    {
     "data": {
      "text/plain": [
       "<AxesSubplot:xlabel='CustomerID', ylabel='Density'>"
      ]
     },
     "execution_count": 32,
     "metadata": {},
     "output_type": "execute_result"
    },
    {
     "data": {
      "image/png": "[encoded data removed]",
      "text/plain": [
       "<Figure size 432x288 with 1 Axes>"
      ]
     },
     "metadata": {
      "needs_background": "light"
     },
     "output_type": "display_data"
    }
   ],
   "source": [
    "sns.distplot(df[\"CustomerID\"])"
   ]
  },
  {
   "cell_type": "markdown",
   "id": "840b9af5",
   "metadata": {},
   "source": [
    "As the data distribution is symmetric the appropriate metric is mean .So, we have to replace missing values with mean of the CustomerID."
   ]
  },
  {
   "cell_type": "markdown",
   "id": "f305cbe7",
   "metadata": {},
   "source": [
    "It's not logical to fill the CustomerID column with mean value.It's better go with forward fill or backward fill.But for now let's not make this complicated and go with mean value to fill the null values."
   ]
  },
  {
   "cell_type": "code",
   "execution_count": 33,
   "id": "73865450",
   "metadata": {},
   "outputs": [],
   "source": [
    "df['CustomerID']=df[\"CustomerID\"].fillna(df.CustomerID.mean())"
   ]
  },
  {
   "cell_type": "code",
   "execution_count": 34,
   "id": "2120f869",
   "metadata": {},
   "outputs": [
    {
     "data": {
      "text/plain": [
       "InvoiceNo         0\n",
       "StockCode         0\n",
       "Description    1454\n",
       "Quantity          0\n",
       "InvoiceDate       0\n",
       "UnitPrice         0\n",
       "CustomerID        0\n",
       "Country           0\n",
       "dtype: int64"
      ]
     },
     "execution_count": 34,
     "metadata": {},
     "output_type": "execute_result"
    }
   ],
   "source": [
    "df.isnull().sum()"
   ]
  },
  {
   "cell_type": "markdown",
   "id": "d44053f1",
   "metadata": {},
   "source": [
    "There's no proper way we can impute the Description column."
   ]
  },
  {
   "cell_type": "markdown",
   "id": "4408a51a",
   "metadata": {},
   "source": [
    "So let's remove all the other records with null values."
   ]
  },
  {
   "cell_type": "code",
   "execution_count": 35,
   "id": "4feb903c",
   "metadata": {},
   "outputs": [],
   "source": [
    "df.dropna(inplace=True)"
   ]
  },
  {
   "cell_type": "code",
   "execution_count": 36,
   "id": "9237d02f",
   "metadata": {},
   "outputs": [
    {
     "data": {
      "text/plain": [
       "InvoiceNo      0\n",
       "StockCode      0\n",
       "Description    0\n",
       "Quantity       0\n",
       "InvoiceDate    0\n",
       "UnitPrice      0\n",
       "CustomerID     0\n",
       "Country        0\n",
       "dtype: int64"
      ]
     },
     "execution_count": 36,
     "metadata": {},
     "output_type": "execute_result"
    }
   ],
   "source": [
    "df.isnull().sum()"
   ]
  },
  {
   "cell_type": "markdown",
   "id": "65e6c1bd",
   "metadata": {},
   "source": [
    "## 3. Remove duplicate rows"
   ]
  },
  {
   "cell_type": "markdown",
   "id": "13e9dc24",
   "metadata": {},
   "source": [
    "We have already checked the duplicate values.Now let's remove that."
   ]
  },
  {
   "cell_type": "code",
   "execution_count": 37,
   "id": "9e94a7b4",
   "metadata": {},
   "outputs": [
    {
     "data": {
      "text/plain": [
       "InvoiceNo      5268\n",
       "StockCode      5268\n",
       "Description    5268\n",
       "Quantity       5268\n",
       "InvoiceDate    5268\n",
       "UnitPrice      5268\n",
       "CustomerID     5268\n",
       "Country        5268\n",
       "dtype: int64"
      ]
     },
     "execution_count": 37,
     "metadata": {},
     "output_type": "execute_result"
    }
   ],
   "source": [
    "df[df.duplicated()].count()"
   ]
  },
  {
   "cell_type": "code",
   "execution_count": 38,
   "id": "7f27d950",
   "metadata": {},
   "outputs": [],
   "source": [
    "# drop all gthe duplicate values.\n",
    "\n",
    "df=df.drop_duplicates(keep=False)"
   ]
  },
  {
   "cell_type": "code",
   "execution_count": 39,
   "id": "f0624ae3",
   "metadata": {},
   "outputs": [
    {
     "data": {
      "text/plain": [
       "InvoiceNo      0\n",
       "StockCode      0\n",
       "Description    0\n",
       "Quantity       0\n",
       "InvoiceDate    0\n",
       "UnitPrice      0\n",
       "CustomerID     0\n",
       "Country        0\n",
       "dtype: int64"
      ]
     },
     "execution_count": 39,
     "metadata": {},
     "output_type": "execute_result"
    }
   ],
   "source": [
    "df[df.duplicated()].count()"
   ]
  },
  {
   "cell_type": "markdown",
   "id": "ded45232",
   "metadata": {},
   "source": [
    "## 4. Remove rows which have negative values in Quantity column"
   ]
  },
  {
   "cell_type": "code",
   "execution_count": 40,
   "id": "d4c8488a",
   "metadata": {},
   "outputs": [
    {
     "data": {
      "text/plain": [
       "9693"
      ]
     },
     "execution_count": 40,
     "metadata": {},
     "output_type": "execute_result"
    }
   ],
   "source": [
    "(df[\"Quantity\"]<0).sum()"
   ]
  },
  {
   "cell_type": "markdown",
   "id": "41cb1369",
   "metadata": {},
   "source": [
    "There are 9693 records with the quantity value less than 0"
   ]
  },
  {
   "cell_type": "code",
   "execution_count": 41,
   "id": "1f50eaa9",
   "metadata": {},
   "outputs": [],
   "source": [
    "df.drop(df[df[\"Quantity\"]<0].index,inplace=True)"
   ]
  },
  {
   "cell_type": "code",
   "execution_count": 42,
   "id": "3242b0e1",
   "metadata": {},
   "outputs": [
    {
     "name": "stdout",
     "output_type": "stream",
     "text": [
      "No.of records with Quantity < 0 :  0\n"
     ]
    }
   ],
   "source": [
    "print(\"No.of records with Quantity < 0 : \",(df[\"Quantity\"]<0).sum())"
   ]
  },
  {
   "cell_type": "markdown",
   "id": "3f3322f5",
   "metadata": {},
   "source": [
    "## 5. Add the columns - Month, Day and Hour for the invoice"
   ]
  },
  {
   "cell_type": "markdown",
   "id": "acb44865",
   "metadata": {},
   "source": [
    "In order to analyse the trend of different numerical columns over the given period of time we have to split the date column to Year,Month,Day and Hour"
   ]
  },
  {
   "cell_type": "markdown",
   "id": "8371a046",
   "metadata": {},
   "source": [
    "We have already converted the InvoiceDate column to timestamp format in the beginning."
   ]
  },
  {
   "cell_type": "code",
   "execution_count": 43,
   "id": "4d8561ca",
   "metadata": {},
   "outputs": [],
   "source": [
    "# Let's create new columns year,month,day and hour\n",
    "\n",
    "df.insert(loc=2, column='Year', value=df['InvoiceDate'].dt.year)\n",
    "df.insert(loc=3, column='Month', value=df.InvoiceDate.dt.month)\n",
    "\n",
    "df.insert(loc=4, column='Day', value=(df.InvoiceDate.dt.dayofweek)+1)   # +1 to make Monday=1.....until Sunday=7\n",
    "df.insert(loc=5, column='Hour', value=df.InvoiceDate.dt.hour)"
   ]
  },
  {
   "cell_type": "code",
   "execution_count": 44,
   "id": "8a851e56",
   "metadata": {},
   "outputs": [
    {
     "data": {
      "text/html": [
       "<div>\n",
       "<style scoped>\n",
       "    .dataframe tbody tr th:only-of-type {\n",
       "        vertical-align: middle;\n",
       "    }\n",
       "\n",
       "    .dataframe tbody tr th {\n",
       "        vertical-align: top;\n",
       "    }\n",
       "\n",
       "    .dataframe thead th {\n",
       "        text-align: right;\n",
       "    }\n",
       "</style>\n",
       "<table border=\"1\" class=\"dataframe\">\n",
       "  <thead>\n",
       "    <tr style=\"text-align: right;\">\n",
       "      <th></th>\n",
       "      <th>InvoiceNo</th>\n",
       "      <th>StockCode</th>\n",
       "      <th>Year</th>\n",
       "      <th>Month</th>\n",
       "      <th>Day</th>\n",
       "      <th>Hour</th>\n",
       "      <th>Description</th>\n",
       "      <th>Quantity</th>\n",
       "      <th>InvoiceDate</th>\n",
       "      <th>UnitPrice</th>\n",
       "      <th>CustomerID</th>\n",
       "      <th>Country</th>\n",
       "    </tr>\n",
       "  </thead>\n",
       "  <tbody>\n",
       "    <tr>\n",
       "      <th>0</th>\n",
       "      <td>536365</td>\n",
       "      <td>85123A</td>\n",
       "      <td>2010</td>\n",
       "      <td>12</td>\n",
       "      <td>3</td>\n",
       "      <td>8</td>\n",
       "      <td>WHITE HANGING HEART T-LIGHT HOLDER</td>\n",
       "      <td>6</td>\n",
       "      <td>2010-12-01 08:26:00</td>\n",
       "      <td>2.55</td>\n",
       "      <td>17850.0</td>\n",
       "      <td>United Kingdom</td>\n",
       "    </tr>\n",
       "    <tr>\n",
       "      <th>1</th>\n",
       "      <td>536365</td>\n",
       "      <td>71053</td>\n",
       "      <td>2010</td>\n",
       "      <td>12</td>\n",
       "      <td>3</td>\n",
       "      <td>8</td>\n",
       "      <td>WHITE METAL LANTERN</td>\n",
       "      <td>6</td>\n",
       "      <td>2010-12-01 08:26:00</td>\n",
       "      <td>3.39</td>\n",
       "      <td>17850.0</td>\n",
       "      <td>United Kingdom</td>\n",
       "    </tr>\n",
       "    <tr>\n",
       "      <th>2</th>\n",
       "      <td>536365</td>\n",
       "      <td>84406B</td>\n",
       "      <td>2010</td>\n",
       "      <td>12</td>\n",
       "      <td>3</td>\n",
       "      <td>8</td>\n",
       "      <td>CREAM CUPID HEARTS COAT HANGER</td>\n",
       "      <td>8</td>\n",
       "      <td>2010-12-01 08:26:00</td>\n",
       "      <td>2.75</td>\n",
       "      <td>17850.0</td>\n",
       "      <td>United Kingdom</td>\n",
       "    </tr>\n",
       "    <tr>\n",
       "      <th>3</th>\n",
       "      <td>536365</td>\n",
       "      <td>84029G</td>\n",
       "      <td>2010</td>\n",
       "      <td>12</td>\n",
       "      <td>3</td>\n",
       "      <td>8</td>\n",
       "      <td>KNITTED UNION FLAG HOT WATER BOTTLE</td>\n",
       "      <td>6</td>\n",
       "      <td>2010-12-01 08:26:00</td>\n",
       "      <td>3.39</td>\n",
       "      <td>17850.0</td>\n",
       "      <td>United Kingdom</td>\n",
       "    </tr>\n",
       "    <tr>\n",
       "      <th>4</th>\n",
       "      <td>536365</td>\n",
       "      <td>84029E</td>\n",
       "      <td>2010</td>\n",
       "      <td>12</td>\n",
       "      <td>3</td>\n",
       "      <td>8</td>\n",
       "      <td>RED WOOLLY HOTTIE WHITE HEART.</td>\n",
       "      <td>6</td>\n",
       "      <td>2010-12-01 08:26:00</td>\n",
       "      <td>3.39</td>\n",
       "      <td>17850.0</td>\n",
       "      <td>United Kingdom</td>\n",
       "    </tr>\n",
       "  </tbody>\n",
       "</table>\n",
       "</div>"
      ],
      "text/plain": [
       "  InvoiceNo StockCode  Year  Month  Day  Hour  \\\n",
       "0    536365    85123A  2010     12    3     8   \n",
       "1    536365     71053  2010     12    3     8   \n",
       "2    536365    84406B  2010     12    3     8   \n",
       "3    536365    84029G  2010     12    3     8   \n",
       "4    536365    84029E  2010     12    3     8   \n",
       "\n",
       "                           Description  Quantity         InvoiceDate  \\\n",
       "0   WHITE HANGING HEART T-LIGHT HOLDER         6 2010-12-01 08:26:00   \n",
       "1                  WHITE METAL LANTERN         6 2010-12-01 08:26:00   \n",
       "2       CREAM CUPID HEARTS COAT HANGER         8 2010-12-01 08:26:00   \n",
       "3  KNITTED UNION FLAG HOT WATER BOTTLE         6 2010-12-01 08:26:00   \n",
       "4       RED WOOLLY HOTTIE WHITE HEART.         6 2010-12-01 08:26:00   \n",
       "\n",
       "   UnitPrice  CustomerID         Country  \n",
       "0       2.55     17850.0  United Kingdom  \n",
       "1       3.39     17850.0  United Kingdom  \n",
       "2       2.75     17850.0  United Kingdom  \n",
       "3       3.39     17850.0  United Kingdom  \n",
       "4       3.39     17850.0  United Kingdom  "
      ]
     },
     "execution_count": 44,
     "metadata": {},
     "output_type": "execute_result"
    }
   ],
   "source": [
    "df.head()"
   ]
  },
  {
   "cell_type": "markdown",
   "id": "8d232231",
   "metadata": {},
   "source": [
    "## 6. How many orders made by the customers?"
   ]
  },
  {
   "cell_type": "code",
   "execution_count": 45,
   "id": "521fce63",
   "metadata": {
    "scrolled": true
   },
   "outputs": [
    {
     "data": {
      "text/html": [
       "<div>\n",
       "<style scoped>\n",
       "    .dataframe tbody tr th:only-of-type {\n",
       "        vertical-align: middle;\n",
       "    }\n",
       "\n",
       "    .dataframe tbody tr th {\n",
       "        vertical-align: top;\n",
       "    }\n",
       "\n",
       "    .dataframe thead th {\n",
       "        text-align: right;\n",
       "    }\n",
       "</style>\n",
       "<table border=\"1\" class=\"dataframe\">\n",
       "  <thead>\n",
       "    <tr style=\"text-align: right;\">\n",
       "      <th></th>\n",
       "      <th>CustomerID</th>\n",
       "      <th>InvoiceNo</th>\n",
       "    </tr>\n",
       "  </thead>\n",
       "  <tbody>\n",
       "    <tr>\n",
       "      <th>0</th>\n",
       "      <td>12346.0</td>\n",
       "      <td>1</td>\n",
       "    </tr>\n",
       "    <tr>\n",
       "      <th>1</th>\n",
       "      <td>12347.0</td>\n",
       "      <td>182</td>\n",
       "    </tr>\n",
       "    <tr>\n",
       "      <th>2</th>\n",
       "      <td>12348.0</td>\n",
       "      <td>31</td>\n",
       "    </tr>\n",
       "    <tr>\n",
       "      <th>3</th>\n",
       "      <td>12349.0</td>\n",
       "      <td>73</td>\n",
       "    </tr>\n",
       "    <tr>\n",
       "      <th>4</th>\n",
       "      <td>12350.0</td>\n",
       "      <td>17</td>\n",
       "    </tr>\n",
       "    <tr>\n",
       "      <th>...</th>\n",
       "      <td>...</td>\n",
       "      <td>...</td>\n",
       "    </tr>\n",
       "    <tr>\n",
       "      <th>4335</th>\n",
       "      <td>18280.0</td>\n",
       "      <td>10</td>\n",
       "    </tr>\n",
       "    <tr>\n",
       "      <th>4336</th>\n",
       "      <td>18281.0</td>\n",
       "      <td>7</td>\n",
       "    </tr>\n",
       "    <tr>\n",
       "      <th>4337</th>\n",
       "      <td>18282.0</td>\n",
       "      <td>12</td>\n",
       "    </tr>\n",
       "    <tr>\n",
       "      <th>4338</th>\n",
       "      <td>18283.0</td>\n",
       "      <td>688</td>\n",
       "    </tr>\n",
       "    <tr>\n",
       "      <th>4339</th>\n",
       "      <td>18287.0</td>\n",
       "      <td>70</td>\n",
       "    </tr>\n",
       "  </tbody>\n",
       "</table>\n",
       "<p>4340 rows × 2 columns</p>\n",
       "</div>"
      ],
      "text/plain": [
       "      CustomerID  InvoiceNo\n",
       "0        12346.0          1\n",
       "1        12347.0        182\n",
       "2        12348.0         31\n",
       "3        12349.0         73\n",
       "4        12350.0         17\n",
       "...          ...        ...\n",
       "4335     18280.0         10\n",
       "4336     18281.0          7\n",
       "4337     18282.0         12\n",
       "4338     18283.0        688\n",
       "4339     18287.0         70\n",
       "\n",
       "[4340 rows x 2 columns]"
      ]
     },
     "execution_count": 45,
     "metadata": {},
     "output_type": "execute_result"
    }
   ],
   "source": [
    "no_of_orders = df.groupby(by=['CustomerID'], as_index=False)['InvoiceNo'].count()\n",
    "no_of_orders"
   ]
  },
  {
   "cell_type": "code",
   "execution_count": 46,
   "id": "d375d550",
   "metadata": {},
   "outputs": [
    {
     "data": {
      "text/html": [
       "<div>\n",
       "<style scoped>\n",
       "    .dataframe tbody tr th:only-of-type {\n",
       "        vertical-align: middle;\n",
       "    }\n",
       "\n",
       "    .dataframe tbody tr th {\n",
       "        vertical-align: top;\n",
       "    }\n",
       "\n",
       "    .dataframe thead th {\n",
       "        text-align: right;\n",
       "    }\n",
       "</style>\n",
       "<table border=\"1\" class=\"dataframe\">\n",
       "  <thead>\n",
       "    <tr style=\"text-align: right;\">\n",
       "      <th></th>\n",
       "      <th>CustomerID</th>\n",
       "      <th>No.of Orders</th>\n",
       "    </tr>\n",
       "  </thead>\n",
       "  <tbody>\n",
       "    <tr>\n",
       "      <th>0</th>\n",
       "      <td>12346.0</td>\n",
       "      <td>1</td>\n",
       "    </tr>\n",
       "    <tr>\n",
       "      <th>1</th>\n",
       "      <td>12347.0</td>\n",
       "      <td>182</td>\n",
       "    </tr>\n",
       "    <tr>\n",
       "      <th>2</th>\n",
       "      <td>12348.0</td>\n",
       "      <td>31</td>\n",
       "    </tr>\n",
       "    <tr>\n",
       "      <th>3</th>\n",
       "      <td>12349.0</td>\n",
       "      <td>73</td>\n",
       "    </tr>\n",
       "    <tr>\n",
       "      <th>4</th>\n",
       "      <td>12350.0</td>\n",
       "      <td>17</td>\n",
       "    </tr>\n",
       "    <tr>\n",
       "      <th>...</th>\n",
       "      <td>...</td>\n",
       "      <td>...</td>\n",
       "    </tr>\n",
       "    <tr>\n",
       "      <th>4335</th>\n",
       "      <td>18280.0</td>\n",
       "      <td>10</td>\n",
       "    </tr>\n",
       "    <tr>\n",
       "      <th>4336</th>\n",
       "      <td>18281.0</td>\n",
       "      <td>7</td>\n",
       "    </tr>\n",
       "    <tr>\n",
       "      <th>4337</th>\n",
       "      <td>18282.0</td>\n",
       "      <td>12</td>\n",
       "    </tr>\n",
       "    <tr>\n",
       "      <th>4338</th>\n",
       "      <td>18283.0</td>\n",
       "      <td>688</td>\n",
       "    </tr>\n",
       "    <tr>\n",
       "      <th>4339</th>\n",
       "      <td>18287.0</td>\n",
       "      <td>70</td>\n",
       "    </tr>\n",
       "  </tbody>\n",
       "</table>\n",
       "<p>4340 rows × 2 columns</p>\n",
       "</div>"
      ],
      "text/plain": [
       "      CustomerID  No.of Orders\n",
       "0        12346.0             1\n",
       "1        12347.0           182\n",
       "2        12348.0            31\n",
       "3        12349.0            73\n",
       "4        12350.0            17\n",
       "...          ...           ...\n",
       "4335     18280.0            10\n",
       "4336     18281.0             7\n",
       "4337     18282.0            12\n",
       "4338     18283.0           688\n",
       "4339     18287.0            70\n",
       "\n",
       "[4340 rows x 2 columns]"
      ]
     },
     "execution_count": 46,
     "metadata": {},
     "output_type": "execute_result"
    }
   ],
   "source": [
    "no_of_orders = no_of_orders.rename(columns={'InvoiceNo':'No.of Orders'})\n",
    "no_of_orders"
   ]
  },
  {
   "cell_type": "markdown",
   "id": "1e15c2f3",
   "metadata": {},
   "source": [
    "We got the no.of orders made by each customer in the InvoiceNo column in the above table."
   ]
  },
  {
   "cell_type": "code",
   "execution_count": 47,
   "id": "c965f085",
   "metadata": {
    "scrolled": false
   },
   "outputs": [
    {
     "data": {
      "text/plain": [
       "Text(0.5, 1.0, 'Number of Orders Per Customers')"
      ]
     },
     "execution_count": 47,
     "metadata": {},
     "output_type": "execute_result"
    },
    {
     "data": {
      "image/png": "[encoded data removed]",
      "text/plain": [
       "<Figure size 1080x216 with 1 Axes>"
      ]
     },
     "metadata": {
      "needs_background": "light"
     },
     "output_type": "display_data"
    }
   ],
   "source": [
    "\n",
    "plt.subplots(figsize=(15,3))\n",
    "plt.plot(no_of_orders.CustomerID, no_of_orders['No.of Orders'])\n",
    "plt.xlabel('Customers ID')\n",
    "plt.ylabel('Number of Orders')\n",
    "plt.title('Number of Orders Per Customers')\n"
   ]
  },
  {
   "cell_type": "markdown",
   "id": "c320a071",
   "metadata": {},
   "source": [
    "There is a large spike for a particular customerID.Let's check the CustomerID with Maximum no.of orders"
   ]
  },
  {
   "cell_type": "code",
   "execution_count": 48,
   "id": "a548ff03",
   "metadata": {},
   "outputs": [
    {
     "data": {
      "text/plain": [
       "CustomerID       18287.0\n",
       "No.of Orders    132692.0\n",
       "dtype: float64"
      ]
     },
     "execution_count": 48,
     "metadata": {},
     "output_type": "execute_result"
    }
   ],
   "source": [
    "no_of_orders.max()"
   ]
  },
  {
   "cell_type": "markdown",
   "id": "1dde0bcf",
   "metadata": {},
   "source": [
    "It can be seen that Customer ID: 18287 had made 132692 order."
   ]
  },
  {
   "cell_type": "markdown",
   "id": "5c2a1c4d",
   "metadata": {},
   "source": [
    "## 7. TOP 5 customers with higher number of orders"
   ]
  },
  {
   "cell_type": "code",
   "execution_count": 49,
   "id": "62cba614",
   "metadata": {},
   "outputs": [
    {
     "data": {
      "text/html": [
       "<div>\n",
       "<style scoped>\n",
       "    .dataframe tbody tr th:only-of-type {\n",
       "        vertical-align: middle;\n",
       "    }\n",
       "\n",
       "    .dataframe tbody tr th {\n",
       "        vertical-align: top;\n",
       "    }\n",
       "\n",
       "    .dataframe thead th {\n",
       "        text-align: right;\n",
       "    }\n",
       "</style>\n",
       "<table border=\"1\" class=\"dataframe\">\n",
       "  <thead>\n",
       "    <tr style=\"text-align: right;\">\n",
       "      <th></th>\n",
       "      <th>CustomerID</th>\n",
       "      <th>No.of Orders</th>\n",
       "    </tr>\n",
       "  </thead>\n",
       "  <tbody>\n",
       "    <tr>\n",
       "      <th>0</th>\n",
       "      <td>12346.0</td>\n",
       "      <td>1</td>\n",
       "    </tr>\n",
       "    <tr>\n",
       "      <th>1</th>\n",
       "      <td>12347.0</td>\n",
       "      <td>182</td>\n",
       "    </tr>\n",
       "    <tr>\n",
       "      <th>2</th>\n",
       "      <td>12348.0</td>\n",
       "      <td>31</td>\n",
       "    </tr>\n",
       "    <tr>\n",
       "      <th>3</th>\n",
       "      <td>12349.0</td>\n",
       "      <td>73</td>\n",
       "    </tr>\n",
       "    <tr>\n",
       "      <th>4</th>\n",
       "      <td>12350.0</td>\n",
       "      <td>17</td>\n",
       "    </tr>\n",
       "    <tr>\n",
       "      <th>...</th>\n",
       "      <td>...</td>\n",
       "      <td>...</td>\n",
       "    </tr>\n",
       "    <tr>\n",
       "      <th>4335</th>\n",
       "      <td>18280.0</td>\n",
       "      <td>10</td>\n",
       "    </tr>\n",
       "    <tr>\n",
       "      <th>4336</th>\n",
       "      <td>18281.0</td>\n",
       "      <td>7</td>\n",
       "    </tr>\n",
       "    <tr>\n",
       "      <th>4337</th>\n",
       "      <td>18282.0</td>\n",
       "      <td>12</td>\n",
       "    </tr>\n",
       "    <tr>\n",
       "      <th>4338</th>\n",
       "      <td>18283.0</td>\n",
       "      <td>688</td>\n",
       "    </tr>\n",
       "    <tr>\n",
       "      <th>4339</th>\n",
       "      <td>18287.0</td>\n",
       "      <td>70</td>\n",
       "    </tr>\n",
       "  </tbody>\n",
       "</table>\n",
       "<p>4340 rows × 2 columns</p>\n",
       "</div>"
      ],
      "text/plain": [
       "      CustomerID  No.of Orders\n",
       "0        12346.0             1\n",
       "1        12347.0           182\n",
       "2        12348.0            31\n",
       "3        12349.0            73\n",
       "4        12350.0            17\n",
       "...          ...           ...\n",
       "4335     18280.0            10\n",
       "4336     18281.0             7\n",
       "4337     18282.0            12\n",
       "4338     18283.0           688\n",
       "4339     18287.0            70\n",
       "\n",
       "[4340 rows x 2 columns]"
      ]
     },
     "execution_count": 49,
     "metadata": {},
     "output_type": "execute_result"
    }
   ],
   "source": [
    "no_of_orders"
   ]
  },
  {
   "cell_type": "markdown",
   "id": "f357e12f",
   "metadata": {},
   "source": [
    "The 'No.of Orders' column in the above table gives the no.of orders made by each customers.Sorting it in descending order and extracting the first 5 values will give us CustomerID with most no.of orders."
   ]
  },
  {
   "cell_type": "code",
   "execution_count": 50,
   "id": "54e76abf",
   "metadata": {},
   "outputs": [],
   "source": [
    "no_of_orders['CustomerID'] = no_of_orders['CustomerID'].astype('int64')"
   ]
  },
  {
   "cell_type": "code",
   "execution_count": 51,
   "id": "cf162e03",
   "metadata": {},
   "outputs": [
    {
     "data": {
      "text/html": [
       "<div>\n",
       "<style scoped>\n",
       "    .dataframe tbody tr th:only-of-type {\n",
       "        vertical-align: middle;\n",
       "    }\n",
       "\n",
       "    .dataframe tbody tr th {\n",
       "        vertical-align: top;\n",
       "    }\n",
       "\n",
       "    .dataframe thead th {\n",
       "        text-align: right;\n",
       "    }\n",
       "</style>\n",
       "<table border=\"1\" class=\"dataframe\">\n",
       "  <thead>\n",
       "    <tr style=\"text-align: right;\">\n",
       "      <th></th>\n",
       "      <th>CustomerID</th>\n",
       "      <th>No.of Orders</th>\n",
       "    </tr>\n",
       "  </thead>\n",
       "  <tbody>\n",
       "    <tr>\n",
       "      <th>2161</th>\n",
       "      <td>15287</td>\n",
       "      <td>132692</td>\n",
       "    </tr>\n",
       "    <tr>\n",
       "      <th>4012</th>\n",
       "      <td>17841</td>\n",
       "      <td>7523</td>\n",
       "    </tr>\n",
       "    <tr>\n",
       "      <th>1880</th>\n",
       "      <td>14911</td>\n",
       "      <td>5667</td>\n",
       "    </tr>\n",
       "    <tr>\n",
       "      <th>1290</th>\n",
       "      <td>14096</td>\n",
       "      <td>5111</td>\n",
       "    </tr>\n",
       "    <tr>\n",
       "      <th>326</th>\n",
       "      <td>12748</td>\n",
       "      <td>4243</td>\n",
       "    </tr>\n",
       "  </tbody>\n",
       "</table>\n",
       "</div>"
      ],
      "text/plain": [
       "      CustomerID  No.of Orders\n",
       "2161       15287        132692\n",
       "4012       17841          7523\n",
       "1880       14911          5667\n",
       "1290       14096          5111\n",
       "326        12748          4243"
      ]
     },
     "execution_count": 51,
     "metadata": {},
     "output_type": "execute_result"
    }
   ],
   "source": [
    "no_of_orders.sort_values(by='No.of Orders', ascending=False).head()"
   ]
  },
  {
   "cell_type": "markdown",
   "id": "b0898b64",
   "metadata": {},
   "source": [
    "The table above shows the top 5 Customers with most no.of orders"
   ]
  },
  {
   "cell_type": "markdown",
   "id": "31ccf2d4",
   "metadata": {},
   "source": [
    "## 8. How much money spent by the customers?"
   ]
  },
  {
   "cell_type": "markdown",
   "id": "be1b7f8e",
   "metadata": {},
   "source": [
    "To find the amount of money spent,first we have to calculate the same."
   ]
  },
  {
   "cell_type": "code",
   "execution_count": 52,
   "id": "b01f09d8",
   "metadata": {},
   "outputs": [],
   "source": [
    "df['Amount_Spent'] = df['Quantity'] * df['UnitPrice']"
   ]
  },
  {
   "cell_type": "code",
   "execution_count": 53,
   "id": "a2d57a85",
   "metadata": {
    "scrolled": true
   },
   "outputs": [
    {
     "data": {
      "text/html": [
       "<div>\n",
       "<style scoped>\n",
       "    .dataframe tbody tr th:only-of-type {\n",
       "        vertical-align: middle;\n",
       "    }\n",
       "\n",
       "    .dataframe tbody tr th {\n",
       "        vertical-align: top;\n",
       "    }\n",
       "\n",
       "    .dataframe thead th {\n",
       "        text-align: right;\n",
       "    }\n",
       "</style>\n",
       "<table border=\"1\" class=\"dataframe\">\n",
       "  <thead>\n",
       "    <tr style=\"text-align: right;\">\n",
       "      <th></th>\n",
       "      <th>InvoiceNo</th>\n",
       "      <th>StockCode</th>\n",
       "      <th>Year</th>\n",
       "      <th>Month</th>\n",
       "      <th>Day</th>\n",
       "      <th>Hour</th>\n",
       "      <th>Description</th>\n",
       "      <th>Quantity</th>\n",
       "      <th>InvoiceDate</th>\n",
       "      <th>UnitPrice</th>\n",
       "      <th>CustomerID</th>\n",
       "      <th>Country</th>\n",
       "      <th>Amount_Spent</th>\n",
       "    </tr>\n",
       "  </thead>\n",
       "  <tbody>\n",
       "    <tr>\n",
       "      <th>0</th>\n",
       "      <td>536365</td>\n",
       "      <td>85123A</td>\n",
       "      <td>2010</td>\n",
       "      <td>12</td>\n",
       "      <td>3</td>\n",
       "      <td>8</td>\n",
       "      <td>WHITE HANGING HEART T-LIGHT HOLDER</td>\n",
       "      <td>6</td>\n",
       "      <td>2010-12-01 08:26:00</td>\n",
       "      <td>2.55</td>\n",
       "      <td>17850.0</td>\n",
       "      <td>United Kingdom</td>\n",
       "      <td>15.30</td>\n",
       "    </tr>\n",
       "    <tr>\n",
       "      <th>1</th>\n",
       "      <td>536365</td>\n",
       "      <td>71053</td>\n",
       "      <td>2010</td>\n",
       "      <td>12</td>\n",
       "      <td>3</td>\n",
       "      <td>8</td>\n",
       "      <td>WHITE METAL LANTERN</td>\n",
       "      <td>6</td>\n",
       "      <td>2010-12-01 08:26:00</td>\n",
       "      <td>3.39</td>\n",
       "      <td>17850.0</td>\n",
       "      <td>United Kingdom</td>\n",
       "      <td>20.34</td>\n",
       "    </tr>\n",
       "  </tbody>\n",
       "</table>\n",
       "</div>"
      ],
      "text/plain": [
       "  InvoiceNo StockCode  Year  Month  Day  Hour  \\\n",
       "0    536365    85123A  2010     12    3     8   \n",
       "1    536365     71053  2010     12    3     8   \n",
       "\n",
       "                          Description  Quantity         InvoiceDate  \\\n",
       "0  WHITE HANGING HEART T-LIGHT HOLDER         6 2010-12-01 08:26:00   \n",
       "1                 WHITE METAL LANTERN         6 2010-12-01 08:26:00   \n",
       "\n",
       "   UnitPrice  CustomerID         Country  Amount_Spent  \n",
       "0       2.55     17850.0  United Kingdom         15.30  \n",
       "1       3.39     17850.0  United Kingdom         20.34  "
      ]
     },
     "execution_count": 53,
     "metadata": {},
     "output_type": "execute_result"
    }
   ],
   "source": [
    "df.head(2)"
   ]
  },
  {
   "cell_type": "code",
   "execution_count": 54,
   "id": "b970eb6b",
   "metadata": {},
   "outputs": [
    {
     "data": {
      "text/html": [
       "<div>\n",
       "<style scoped>\n",
       "    .dataframe tbody tr th:only-of-type {\n",
       "        vertical-align: middle;\n",
       "    }\n",
       "\n",
       "    .dataframe tbody tr th {\n",
       "        vertical-align: top;\n",
       "    }\n",
       "\n",
       "    .dataframe thead th {\n",
       "        text-align: right;\n",
       "    }\n",
       "</style>\n",
       "<table border=\"1\" class=\"dataframe\">\n",
       "  <thead>\n",
       "    <tr style=\"text-align: right;\">\n",
       "      <th></th>\n",
       "      <th>CustomerID</th>\n",
       "      <th>Amount_Spent</th>\n",
       "    </tr>\n",
       "  </thead>\n",
       "  <tbody>\n",
       "    <tr>\n",
       "      <th>0</th>\n",
       "      <td>12346.0</td>\n",
       "      <td>77183.60</td>\n",
       "    </tr>\n",
       "    <tr>\n",
       "      <th>1</th>\n",
       "      <td>12347.0</td>\n",
       "      <td>4310.00</td>\n",
       "    </tr>\n",
       "    <tr>\n",
       "      <th>2</th>\n",
       "      <td>12348.0</td>\n",
       "      <td>1797.24</td>\n",
       "    </tr>\n",
       "    <tr>\n",
       "      <th>3</th>\n",
       "      <td>12349.0</td>\n",
       "      <td>1757.55</td>\n",
       "    </tr>\n",
       "    <tr>\n",
       "      <th>4</th>\n",
       "      <td>12350.0</td>\n",
       "      <td>334.40</td>\n",
       "    </tr>\n",
       "    <tr>\n",
       "      <th>...</th>\n",
       "      <td>...</td>\n",
       "      <td>...</td>\n",
       "    </tr>\n",
       "    <tr>\n",
       "      <th>4335</th>\n",
       "      <td>18280.0</td>\n",
       "      <td>180.60</td>\n",
       "    </tr>\n",
       "    <tr>\n",
       "      <th>4336</th>\n",
       "      <td>18281.0</td>\n",
       "      <td>80.82</td>\n",
       "    </tr>\n",
       "    <tr>\n",
       "      <th>4337</th>\n",
       "      <td>18282.0</td>\n",
       "      <td>178.05</td>\n",
       "    </tr>\n",
       "    <tr>\n",
       "      <th>4338</th>\n",
       "      <td>18283.0</td>\n",
       "      <td>1998.68</td>\n",
       "    </tr>\n",
       "    <tr>\n",
       "      <th>4339</th>\n",
       "      <td>18287.0</td>\n",
       "      <td>1837.28</td>\n",
       "    </tr>\n",
       "  </tbody>\n",
       "</table>\n",
       "<p>4340 rows × 2 columns</p>\n",
       "</div>"
      ],
      "text/plain": [
       "      CustomerID  Amount_Spent\n",
       "0        12346.0      77183.60\n",
       "1        12347.0       4310.00\n",
       "2        12348.0       1797.24\n",
       "3        12349.0       1757.55\n",
       "4        12350.0        334.40\n",
       "...          ...           ...\n",
       "4335     18280.0        180.60\n",
       "4336     18281.0         80.82\n",
       "4337     18282.0        178.05\n",
       "4338     18283.0       1998.68\n",
       "4339     18287.0       1837.28\n",
       "\n",
       "[4340 rows x 2 columns]"
      ]
     },
     "execution_count": 54,
     "metadata": {},
     "output_type": "execute_result"
    }
   ],
   "source": [
    "money_spent = df.groupby('CustomerID', as_index=False)['Amount_Spent'].sum()\n",
    "money_spent"
   ]
  },
  {
   "cell_type": "markdown",
   "id": "abcad351",
   "metadata": {},
   "source": [
    "The table above gives the amount of money spent by each customers."
   ]
  },
  {
   "cell_type": "code",
   "execution_count": 55,
   "id": "3c5d8379",
   "metadata": {
    "scrolled": true
   },
   "outputs": [
    {
     "data": {
      "text/plain": [
       "Text(0.5, 1.0, 'Money Spent By Customers')"
      ]
     },
     "execution_count": 55,
     "metadata": {},
     "output_type": "execute_result"
    },
    {
     "data": {
      "image/png": "[encoded data removed]",
      "text/plain": [
       "<Figure size 1080x432 with 1 Axes>"
      ]
     },
     "metadata": {
      "needs_background": "light"
     },
     "output_type": "display_data"
    }
   ],
   "source": [
    "\n",
    "plt.subplots(figsize=(15,6))\n",
    "plt.plot(money_spent.CustomerID, money_spent.Amount_Spent)\n",
    "plt.xlabel('Customers ID')\n",
    "plt.ylabel('Amount of Money spent ($)')\n",
    "plt.title('Money Spent By Customers')\n"
   ]
  },
  {
   "cell_type": "markdown",
   "id": "f08a72d2",
   "metadata": {},
   "source": [
    "## 9. TOP 5 customers with highest money spent"
   ]
  },
  {
   "cell_type": "code",
   "execution_count": 56,
   "id": "905d42b8",
   "metadata": {},
   "outputs": [
    {
     "data": {
      "text/html": [
       "<div>\n",
       "<style scoped>\n",
       "    .dataframe tbody tr th:only-of-type {\n",
       "        vertical-align: middle;\n",
       "    }\n",
       "\n",
       "    .dataframe tbody tr th {\n",
       "        vertical-align: top;\n",
       "    }\n",
       "\n",
       "    .dataframe thead th {\n",
       "        text-align: right;\n",
       "    }\n",
       "</style>\n",
       "<table border=\"1\" class=\"dataframe\">\n",
       "  <thead>\n",
       "    <tr style=\"text-align: right;\">\n",
       "      <th></th>\n",
       "      <th>CustomerID</th>\n",
       "      <th>Amount_Spent</th>\n",
       "    </tr>\n",
       "  </thead>\n",
       "  <tbody>\n",
       "    <tr>\n",
       "      <th>2161</th>\n",
       "      <td>15287.69057</td>\n",
       "      <td>1.732405e+06</td>\n",
       "    </tr>\n",
       "    <tr>\n",
       "      <th>1690</th>\n",
       "      <td>14646.00000</td>\n",
       "      <td>2.802060e+05</td>\n",
       "    </tr>\n",
       "    <tr>\n",
       "      <th>4203</th>\n",
       "      <td>18102.00000</td>\n",
       "      <td>2.596573e+05</td>\n",
       "    </tr>\n",
       "    <tr>\n",
       "      <th>3730</th>\n",
       "      <td>17450.00000</td>\n",
       "      <td>1.942308e+05</td>\n",
       "    </tr>\n",
       "    <tr>\n",
       "      <th>3010</th>\n",
       "      <td>16446.00000</td>\n",
       "      <td>1.684725e+05</td>\n",
       "    </tr>\n",
       "  </tbody>\n",
       "</table>\n",
       "</div>"
      ],
      "text/plain": [
       "       CustomerID  Amount_Spent\n",
       "2161  15287.69057  1.732405e+06\n",
       "1690  14646.00000  2.802060e+05\n",
       "4203  18102.00000  2.596573e+05\n",
       "3730  17450.00000  1.942308e+05\n",
       "3010  16446.00000  1.684725e+05"
      ]
     },
     "execution_count": 56,
     "metadata": {},
     "output_type": "execute_result"
    }
   ],
   "source": [
    "money_spent.sort_values('Amount_Spent', ascending=False).head()"
   ]
  },
  {
   "cell_type": "markdown",
   "id": "bba11ef1",
   "metadata": {},
   "source": [
    "This table gives the customers who spent highest amount of money."
   ]
  },
  {
   "cell_type": "markdown",
   "id": "79a48df0",
   "metadata": {},
   "source": [
    "## 10. How many orders per month?"
   ]
  },
  {
   "cell_type": "code",
   "execution_count": 57,
   "id": "7b519092",
   "metadata": {
    "scrolled": true
   },
   "outputs": [
    {
     "data": {
      "text/html": [
       "<div>\n",
       "<style scoped>\n",
       "    .dataframe tbody tr th:only-of-type {\n",
       "        vertical-align: middle;\n",
       "    }\n",
       "\n",
       "    .dataframe tbody tr th {\n",
       "        vertical-align: top;\n",
       "    }\n",
       "\n",
       "    .dataframe thead th {\n",
       "        text-align: right;\n",
       "    }\n",
       "</style>\n",
       "<table border=\"1\" class=\"dataframe\">\n",
       "  <thead>\n",
       "    <tr style=\"text-align: right;\">\n",
       "      <th></th>\n",
       "      <th>Month</th>\n",
       "      <th>Orders Per Month</th>\n",
       "    </tr>\n",
       "  </thead>\n",
       "  <tbody>\n",
       "    <tr>\n",
       "      <th>Jan</th>\n",
       "      <td>1</td>\n",
       "      <td>1089</td>\n",
       "    </tr>\n",
       "    <tr>\n",
       "      <th>Feb</th>\n",
       "      <td>2</td>\n",
       "      <td>1101</td>\n",
       "    </tr>\n",
       "    <tr>\n",
       "      <th>Mar</th>\n",
       "      <td>3</td>\n",
       "      <td>1459</td>\n",
       "    </tr>\n",
       "    <tr>\n",
       "      <th>Apr</th>\n",
       "      <td>4</td>\n",
       "      <td>1255</td>\n",
       "    </tr>\n",
       "    <tr>\n",
       "      <th>May</th>\n",
       "      <td>5</td>\n",
       "      <td>1689</td>\n",
       "    </tr>\n",
       "    <tr>\n",
       "      <th>Jun</th>\n",
       "      <td>6</td>\n",
       "      <td>1537</td>\n",
       "    </tr>\n",
       "    <tr>\n",
       "      <th>July</th>\n",
       "      <td>7</td>\n",
       "      <td>1484</td>\n",
       "    </tr>\n",
       "    <tr>\n",
       "      <th>Aug</th>\n",
       "      <td>8</td>\n",
       "      <td>1367</td>\n",
       "    </tr>\n",
       "    <tr>\n",
       "      <th>Sep</th>\n",
       "      <td>9</td>\n",
       "      <td>1858</td>\n",
       "    </tr>\n",
       "    <tr>\n",
       "      <th>Oct</th>\n",
       "      <td>10</td>\n",
       "      <td>2070</td>\n",
       "    </tr>\n",
       "    <tr>\n",
       "      <th>Nov</th>\n",
       "      <td>11</td>\n",
       "      <td>2830</td>\n",
       "    </tr>\n",
       "    <tr>\n",
       "      <th>Dec</th>\n",
       "      <td>12</td>\n",
       "      <td>2395</td>\n",
       "    </tr>\n",
       "  </tbody>\n",
       "</table>\n",
       "</div>"
      ],
      "text/plain": [
       "      Month  Orders Per Month\n",
       "Jan       1              1089\n",
       "Feb       2              1101\n",
       "Mar       3              1459\n",
       "Apr       4              1255\n",
       "May       5              1689\n",
       "Jun       6              1537\n",
       "July      7              1484\n",
       "Aug       8              1367\n",
       "Sep       9              1858\n",
       "Oct      10              2070\n",
       "Nov      11              2830\n",
       "Dec      12              2395"
      ]
     },
     "execution_count": 57,
     "metadata": {},
     "output_type": "execute_result"
    }
   ],
   "source": [
    "orders_per_month = df.groupby('Month',as_index=False)['InvoiceNo'].nunique()\n",
    "\n",
    "m=['Jan','Feb','Mar','Apr','May','Jun','July','Aug','Sep','Oct','Nov','Dec']\n",
    "orders_per_month.index=m\n",
    "orders_per_month = orders_per_month.rename(columns={'InvoiceNo':'Orders Per Month'})\n",
    "\n",
    "orders_per_month"
   ]
  },
  {
   "cell_type": "markdown",
   "id": "d6444d7f",
   "metadata": {},
   "source": [
    "The table above gives the orders generated per each month."
   ]
  },
  {
   "cell_type": "code",
   "execution_count": 58,
   "id": "038ae908",
   "metadata": {
    "scrolled": true
   },
   "outputs": [
    {
     "data": {
      "text/plain": [
       "[Text(0, 0, 'Jan'),\n",
       " Text(1, 0, 'Feb'),\n",
       " Text(2, 0, 'Mar'),\n",
       " Text(3, 0, 'Apr'),\n",
       " Text(4, 0, 'May'),\n",
       " Text(5, 0, 'Jun'),\n",
       " Text(6, 0, 'July'),\n",
       " Text(7, 0, 'Aug'),\n",
       " Text(8, 0, 'Sep'),\n",
       " Text(9, 0, 'Oct'),\n",
       " Text(10, 0, 'Nov'),\n",
       " Text(11, 0, 'Dec')]"
      ]
     },
     "execution_count": 58,
     "metadata": {},
     "output_type": "execute_result"
    },
    {
     "data": {
      "image/png": "[encoded data removed]",
      "text/plain": [
       "<Figure size 1080x288 with 1 Axes>"
      ]
     },
     "metadata": {
      "needs_background": "light"
     },
     "output_type": "display_data"
    }
   ],
   "source": [
    "opm = orders_per_month['Orders Per Month'].plot(kind='bar',figsize=(15,4))\n",
    "\n",
    "opm.set_xlabel('Month',fontsize=15)\n",
    "opm.set_ylabel('Number of Orders',fontsize=15)\n",
    "opm.set_title('Orders Generated Per Month',fontsize=15)\n",
    "opm.set_xticklabels(m, rotation='horizontal', fontsize=15)\n"
   ]
  },
  {
   "cell_type": "markdown",
   "id": "42be0b58",
   "metadata": {},
   "source": [
    "The graph shows that most no.of orders are received in the month of November."
   ]
  },
  {
   "cell_type": "markdown",
   "id": "0002deb2",
   "metadata": {},
   "source": [
    "## 11. How many orders per day?"
   ]
  },
  {
   "cell_type": "code",
   "execution_count": 59,
   "id": "e3cb9ba6",
   "metadata": {},
   "outputs": [
    {
     "data": {
      "text/html": [
       "<div>\n",
       "<style scoped>\n",
       "    .dataframe tbody tr th:only-of-type {\n",
       "        vertical-align: middle;\n",
       "    }\n",
       "\n",
       "    .dataframe tbody tr th {\n",
       "        vertical-align: top;\n",
       "    }\n",
       "\n",
       "    .dataframe thead th {\n",
       "        text-align: right;\n",
       "    }\n",
       "</style>\n",
       "<table border=\"1\" class=\"dataframe\">\n",
       "  <thead>\n",
       "    <tr style=\"text-align: right;\">\n",
       "      <th></th>\n",
       "      <th>Day</th>\n",
       "      <th>InvoiceNo</th>\n",
       "    </tr>\n",
       "  </thead>\n",
       "  <tbody>\n",
       "    <tr>\n",
       "      <th>0</th>\n",
       "      <td>1</td>\n",
       "      <td>3152</td>\n",
       "    </tr>\n",
       "    <tr>\n",
       "      <th>1</th>\n",
       "      <td>2</td>\n",
       "      <td>3594</td>\n",
       "    </tr>\n",
       "    <tr>\n",
       "      <th>2</th>\n",
       "      <td>3</td>\n",
       "      <td>3728</td>\n",
       "    </tr>\n",
       "    <tr>\n",
       "      <th>3</th>\n",
       "      <td>4</td>\n",
       "      <td>4276</td>\n",
       "    </tr>\n",
       "    <tr>\n",
       "      <th>4</th>\n",
       "      <td>5</td>\n",
       "      <td>3177</td>\n",
       "    </tr>\n",
       "    <tr>\n",
       "      <th>5</th>\n",
       "      <td>7</td>\n",
       "      <td>2207</td>\n",
       "    </tr>\n",
       "  </tbody>\n",
       "</table>\n",
       "</div>"
      ],
      "text/plain": [
       "   Day  InvoiceNo\n",
       "0    1       3152\n",
       "1    2       3594\n",
       "2    3       3728\n",
       "3    4       4276\n",
       "4    5       3177\n",
       "5    7       2207"
      ]
     },
     "execution_count": 59,
     "metadata": {},
     "output_type": "execute_result"
    }
   ],
   "source": [
    "orders_per_day = df.groupby('Day',as_index=False)['InvoiceNo'].nunique()\n",
    "\n",
    "orders_per_day"
   ]
  },
  {
   "cell_type": "markdown",
   "id": "0ad7ce9b",
   "metadata": {},
   "source": [
    "We can see that there is no orders on day 6. So let's assume that day as a holiday ie,we are going to consider Staurday as holiday."
   ]
  },
  {
   "cell_type": "code",
   "execution_count": 60,
   "id": "7c199d38",
   "metadata": {},
   "outputs": [
    {
     "data": {
      "text/html": [
       "<div>\n",
       "<style scoped>\n",
       "    .dataframe tbody tr th:only-of-type {\n",
       "        vertical-align: middle;\n",
       "    }\n",
       "\n",
       "    .dataframe tbody tr th {\n",
       "        vertical-align: top;\n",
       "    }\n",
       "\n",
       "    .dataframe thead th {\n",
       "        text-align: right;\n",
       "    }\n",
       "</style>\n",
       "<table border=\"1\" class=\"dataframe\">\n",
       "  <thead>\n",
       "    <tr style=\"text-align: right;\">\n",
       "      <th></th>\n",
       "      <th>Day</th>\n",
       "      <th>Orders Per day</th>\n",
       "    </tr>\n",
       "  </thead>\n",
       "  <tbody>\n",
       "    <tr>\n",
       "      <th>Mon</th>\n",
       "      <td>1</td>\n",
       "      <td>3152</td>\n",
       "    </tr>\n",
       "    <tr>\n",
       "      <th>Tue</th>\n",
       "      <td>2</td>\n",
       "      <td>3594</td>\n",
       "    </tr>\n",
       "    <tr>\n",
       "      <th>Wed</th>\n",
       "      <td>3</td>\n",
       "      <td>3728</td>\n",
       "    </tr>\n",
       "    <tr>\n",
       "      <th>Thu</th>\n",
       "      <td>4</td>\n",
       "      <td>4276</td>\n",
       "    </tr>\n",
       "    <tr>\n",
       "      <th>Fri</th>\n",
       "      <td>5</td>\n",
       "      <td>3177</td>\n",
       "    </tr>\n",
       "    <tr>\n",
       "      <th>Sun</th>\n",
       "      <td>7</td>\n",
       "      <td>2207</td>\n",
       "    </tr>\n",
       "  </tbody>\n",
       "</table>\n",
       "</div>"
      ],
      "text/plain": [
       "     Day  Orders Per day\n",
       "Mon    1            3152\n",
       "Tue    2            3594\n",
       "Wed    3            3728\n",
       "Thu    4            4276\n",
       "Fri    5            3177\n",
       "Sun    7            2207"
      ]
     },
     "execution_count": 60,
     "metadata": {},
     "output_type": "execute_result"
    }
   ],
   "source": [
    "d=['Mon','Tue','Wed','Thu','Fri','Sun']\n",
    "\n",
    "orders_per_day.index=d\n",
    "orders_per_day = orders_per_day.rename(columns={'InvoiceNo':'Orders Per day'})\n",
    "orders_per_day"
   ]
  },
  {
   "cell_type": "markdown",
   "id": "031b19d8",
   "metadata": {},
   "source": [
    "The table above shows the number of orders made everyday."
   ]
  },
  {
   "cell_type": "code",
   "execution_count": 61,
   "id": "5e4ff85f",
   "metadata": {
    "scrolled": true
   },
   "outputs": [
    {
     "data": {
      "text/plain": [
       "[Text(0, 0, 'Mon'),\n",
       " Text(1, 0, 'Tue'),\n",
       " Text(2, 0, 'Wed'),\n",
       " Text(3, 0, 'Thu'),\n",
       " Text(4, 0, 'Fri'),\n",
       " Text(5, 0, 'Sun')]"
      ]
     },
     "execution_count": 61,
     "metadata": {},
     "output_type": "execute_result"
    },
    {
     "data": {
      "image/png": "[encoded data removed]",
      "text/plain": [
       "<Figure size 1080x288 with 1 Axes>"
      ]
     },
     "metadata": {
      "needs_background": "light"
     },
     "output_type": "display_data"
    }
   ],
   "source": [
    "opd = orders_per_day['Orders Per day'].plot(kind='bar',figsize=(15,4))\n",
    "\n",
    "opd.set_xlabel('Day',fontsize=15)\n",
    "opd.set_ylabel('Number of Orders',fontsize=15)\n",
    "opd.set_title('Orders Generated Per each Day',fontsize=15)\n",
    "opd.set_xticklabels(d, rotation='horizontal', fontsize=15)\n"
   ]
  },
  {
   "cell_type": "markdown",
   "id": "2695fa17",
   "metadata": {},
   "source": [
    "It is clear from the graph that the orders generated is less for sunday and maximum for Thursday."
   ]
  },
  {
   "cell_type": "markdown",
   "id": "c2ec4d8b",
   "metadata": {},
   "source": [
    "## 12. How many orders per hour?"
   ]
  },
  {
   "cell_type": "code",
   "execution_count": 62,
   "id": "322f5c85",
   "metadata": {},
   "outputs": [
    {
     "data": {
      "text/html": [
       "<div>\n",
       "<style scoped>\n",
       "    .dataframe tbody tr th:only-of-type {\n",
       "        vertical-align: middle;\n",
       "    }\n",
       "\n",
       "    .dataframe tbody tr th {\n",
       "        vertical-align: top;\n",
       "    }\n",
       "\n",
       "    .dataframe thead th {\n",
       "        text-align: right;\n",
       "    }\n",
       "</style>\n",
       "<table border=\"1\" class=\"dataframe\">\n",
       "  <thead>\n",
       "    <tr style=\"text-align: right;\">\n",
       "      <th></th>\n",
       "      <th>Hour</th>\n",
       "      <th>InvoiceNo</th>\n",
       "    </tr>\n",
       "  </thead>\n",
       "  <tbody>\n",
       "    <tr>\n",
       "      <th>0</th>\n",
       "      <td>6</td>\n",
       "      <td>1</td>\n",
       "    </tr>\n",
       "    <tr>\n",
       "      <th>1</th>\n",
       "      <td>7</td>\n",
       "      <td>29</td>\n",
       "    </tr>\n",
       "    <tr>\n",
       "      <th>2</th>\n",
       "      <td>8</td>\n",
       "      <td>567</td>\n",
       "    </tr>\n",
       "    <tr>\n",
       "      <th>3</th>\n",
       "      <td>9</td>\n",
       "      <td>1501</td>\n",
       "    </tr>\n",
       "    <tr>\n",
       "      <th>4</th>\n",
       "      <td>10</td>\n",
       "      <td>2377</td>\n",
       "    </tr>\n",
       "    <tr>\n",
       "      <th>5</th>\n",
       "      <td>11</td>\n",
       "      <td>2425</td>\n",
       "    </tr>\n",
       "    <tr>\n",
       "      <th>6</th>\n",
       "      <td>12</td>\n",
       "      <td>3242</td>\n",
       "    </tr>\n",
       "    <tr>\n",
       "      <th>7</th>\n",
       "      <td>13</td>\n",
       "      <td>2774</td>\n",
       "    </tr>\n",
       "    <tr>\n",
       "      <th>8</th>\n",
       "      <td>14</td>\n",
       "      <td>2473</td>\n",
       "    </tr>\n",
       "    <tr>\n",
       "      <th>9</th>\n",
       "      <td>15</td>\n",
       "      <td>2362</td>\n",
       "    </tr>\n",
       "    <tr>\n",
       "      <th>10</th>\n",
       "      <td>16</td>\n",
       "      <td>1347</td>\n",
       "    </tr>\n",
       "    <tr>\n",
       "      <th>11</th>\n",
       "      <td>17</td>\n",
       "      <td>675</td>\n",
       "    </tr>\n",
       "    <tr>\n",
       "      <th>12</th>\n",
       "      <td>18</td>\n",
       "      <td>198</td>\n",
       "    </tr>\n",
       "    <tr>\n",
       "      <th>13</th>\n",
       "      <td>19</td>\n",
       "      <td>146</td>\n",
       "    </tr>\n",
       "    <tr>\n",
       "      <th>14</th>\n",
       "      <td>20</td>\n",
       "      <td>18</td>\n",
       "    </tr>\n",
       "  </tbody>\n",
       "</table>\n",
       "</div>"
      ],
      "text/plain": [
       "    Hour  InvoiceNo\n",
       "0      6          1\n",
       "1      7         29\n",
       "2      8        567\n",
       "3      9       1501\n",
       "4     10       2377\n",
       "5     11       2425\n",
       "6     12       3242\n",
       "7     13       2774\n",
       "8     14       2473\n",
       "9     15       2362\n",
       "10    16       1347\n",
       "11    17        675\n",
       "12    18        198\n",
       "13    19        146\n",
       "14    20         18"
      ]
     },
     "execution_count": 62,
     "metadata": {},
     "output_type": "execute_result"
    }
   ],
   "source": [
    "orders_per_hour=df.groupby('Hour',as_index=False)['InvoiceNo'].nunique()\n",
    "orders_per_hour"
   ]
  },
  {
   "cell_type": "code",
   "execution_count": 63,
   "id": "43ae9d6b",
   "metadata": {},
   "outputs": [
    {
     "data": {
      "text/html": [
       "<div>\n",
       "<style scoped>\n",
       "    .dataframe tbody tr th:only-of-type {\n",
       "        vertical-align: middle;\n",
       "    }\n",
       "\n",
       "    .dataframe tbody tr th {\n",
       "        vertical-align: top;\n",
       "    }\n",
       "\n",
       "    .dataframe thead th {\n",
       "        text-align: right;\n",
       "    }\n",
       "</style>\n",
       "<table border=\"1\" class=\"dataframe\">\n",
       "  <thead>\n",
       "    <tr style=\"text-align: right;\">\n",
       "      <th></th>\n",
       "      <th>Hour</th>\n",
       "      <th>Orders Per Hour</th>\n",
       "    </tr>\n",
       "  </thead>\n",
       "  <tbody>\n",
       "    <tr>\n",
       "      <th>6:00AM</th>\n",
       "      <td>6</td>\n",
       "      <td>1</td>\n",
       "    </tr>\n",
       "    <tr>\n",
       "      <th>7:00AM</th>\n",
       "      <td>7</td>\n",
       "      <td>29</td>\n",
       "    </tr>\n",
       "    <tr>\n",
       "      <th>8:00AM</th>\n",
       "      <td>8</td>\n",
       "      <td>567</td>\n",
       "    </tr>\n",
       "    <tr>\n",
       "      <th>9:00AM</th>\n",
       "      <td>9</td>\n",
       "      <td>1501</td>\n",
       "    </tr>\n",
       "    <tr>\n",
       "      <th>10:00AM</th>\n",
       "      <td>10</td>\n",
       "      <td>2377</td>\n",
       "    </tr>\n",
       "    <tr>\n",
       "      <th>11:00AM</th>\n",
       "      <td>11</td>\n",
       "      <td>2425</td>\n",
       "    </tr>\n",
       "    <tr>\n",
       "      <th>12:00PM</th>\n",
       "      <td>12</td>\n",
       "      <td>3242</td>\n",
       "    </tr>\n",
       "    <tr>\n",
       "      <th>01:00PM</th>\n",
       "      <td>13</td>\n",
       "      <td>2774</td>\n",
       "    </tr>\n",
       "    <tr>\n",
       "      <th>02:00PM</th>\n",
       "      <td>14</td>\n",
       "      <td>2473</td>\n",
       "    </tr>\n",
       "    <tr>\n",
       "      <th>03:00PM</th>\n",
       "      <td>15</td>\n",
       "      <td>2362</td>\n",
       "    </tr>\n",
       "    <tr>\n",
       "      <th>04:00PM</th>\n",
       "      <td>16</td>\n",
       "      <td>1347</td>\n",
       "    </tr>\n",
       "    <tr>\n",
       "      <th>05:00PM</th>\n",
       "      <td>17</td>\n",
       "      <td>675</td>\n",
       "    </tr>\n",
       "    <tr>\n",
       "      <th>06:00PM</th>\n",
       "      <td>18</td>\n",
       "      <td>198</td>\n",
       "    </tr>\n",
       "    <tr>\n",
       "      <th>07:00PM</th>\n",
       "      <td>19</td>\n",
       "      <td>146</td>\n",
       "    </tr>\n",
       "    <tr>\n",
       "      <th>08:00PM</th>\n",
       "      <td>20</td>\n",
       "      <td>18</td>\n",
       "    </tr>\n",
       "  </tbody>\n",
       "</table>\n",
       "</div>"
      ],
      "text/plain": [
       "         Hour  Orders Per Hour\n",
       "6:00AM      6                1\n",
       "7:00AM      7               29\n",
       "8:00AM      8              567\n",
       "9:00AM      9             1501\n",
       "10:00AM    10             2377\n",
       "11:00AM    11             2425\n",
       "12:00PM    12             3242\n",
       "01:00PM    13             2774\n",
       "02:00PM    14             2473\n",
       "03:00PM    15             2362\n",
       "04:00PM    16             1347\n",
       "05:00PM    17              675\n",
       "06:00PM    18              198\n",
       "07:00PM    19              146\n",
       "08:00PM    20               18"
      ]
     },
     "execution_count": 63,
     "metadata": {},
     "output_type": "execute_result"
    }
   ],
   "source": [
    "h=['6:00AM','7:00AM','8:00AM','9:00AM','10:00AM','11:00AM','12:00PM','01:00PM','02:00PM','03:00PM','04:00PM','05:00PM','06:00PM','07:00PM','08:00PM']\n",
    "\n",
    "orders_per_hour.index=h\n",
    "orders_per_hour = orders_per_hour.rename(columns={'InvoiceNo':'Orders Per Hour'})\n",
    "orders_per_hour"
   ]
  },
  {
   "cell_type": "markdown",
   "id": "fd6ea7c2",
   "metadata": {},
   "source": [
    "Orders generated per every working hour is available in the above table."
   ]
  },
  {
   "cell_type": "code",
   "execution_count": 64,
   "id": "511fb788",
   "metadata": {},
   "outputs": [
    {
     "data": {
      "text/plain": [
       "[Text(0, 0, '6:00AM'),\n",
       " Text(1, 0, '7:00AM'),\n",
       " Text(2, 0, '8:00AM'),\n",
       " Text(3, 0, '9:00AM'),\n",
       " Text(4, 0, '10:00AM'),\n",
       " Text(5, 0, '11:00AM'),\n",
       " Text(6, 0, '12:00PM'),\n",
       " Text(7, 0, '01:00PM'),\n",
       " Text(8, 0, '02:00PM'),\n",
       " Text(9, 0, '03:00PM'),\n",
       " Text(10, 0, '04:00PM'),\n",
       " Text(11, 0, '05:00PM'),\n",
       " Text(12, 0, '06:00PM'),\n",
       " Text(13, 0, '07:00PM'),\n",
       " Text(14, 0, '08:00PM')]"
      ]
     },
     "execution_count": 64,
     "metadata": {},
     "output_type": "execute_result"
    },
    {
     "data": {
      "image/png": "[encoded data removed]",
      "text/plain": [
       "<Figure size 1800x432 with 1 Axes>"
      ]
     },
     "metadata": {
      "needs_background": "light"
     },
     "output_type": "display_data"
    }
   ],
   "source": [
    "oph = orders_per_hour.plot(kind='bar',figsize=(25,6))\n",
    "\n",
    "oph.set_xlabel('Hour',fontsize=15)\n",
    "oph.set_ylabel('Number of Orders',fontsize=15)\n",
    "oph.set_title('Orders Generated Per each Hour',fontsize=20)\n",
    "oph.set_xticklabels(h, rotation='horizontal', fontsize=15)"
   ]
  },
  {
   "cell_type": "markdown",
   "id": "3807ed87",
   "metadata": {},
   "source": [
    "The maximum number of orders are generated in the noon time.That means the peak sales occurs during the time period 10:00AM to 4:00PM"
   ]
  },
  {
   "cell_type": "markdown",
   "id": "db38a949",
   "metadata": {},
   "source": [
    "###  13. How many orders for each country?"
   ]
  },
  {
   "cell_type": "code",
   "execution_count": 65,
   "id": "0ab44009",
   "metadata": {},
   "outputs": [
    {
     "data": {
      "text/html": [
       "<div>\n",
       "<style scoped>\n",
       "    .dataframe tbody tr th:only-of-type {\n",
       "        vertical-align: middle;\n",
       "    }\n",
       "\n",
       "    .dataframe tbody tr th {\n",
       "        vertical-align: top;\n",
       "    }\n",
       "\n",
       "    .dataframe thead th {\n",
       "        text-align: right;\n",
       "    }\n",
       "</style>\n",
       "<table border=\"1\" class=\"dataframe\">\n",
       "  <thead>\n",
       "    <tr style=\"text-align: right;\">\n",
       "      <th></th>\n",
       "      <th>Country</th>\n",
       "      <th>InvoiceNo</th>\n",
       "    </tr>\n",
       "  </thead>\n",
       "  <tbody>\n",
       "    <tr>\n",
       "      <th>36</th>\n",
       "      <td>United Kingdom</td>\n",
       "      <td>18192</td>\n",
       "    </tr>\n",
       "    <tr>\n",
       "      <th>14</th>\n",
       "      <td>Germany</td>\n",
       "      <td>457</td>\n",
       "    </tr>\n",
       "    <tr>\n",
       "      <th>13</th>\n",
       "      <td>France</td>\n",
       "      <td>392</td>\n",
       "    </tr>\n",
       "    <tr>\n",
       "      <th>10</th>\n",
       "      <td>EIRE</td>\n",
       "      <td>288</td>\n",
       "    </tr>\n",
       "    <tr>\n",
       "      <th>3</th>\n",
       "      <td>Belgium</td>\n",
       "      <td>98</td>\n",
       "    </tr>\n",
       "    <tr>\n",
       "      <th>24</th>\n",
       "      <td>Netherlands</td>\n",
       "      <td>95</td>\n",
       "    </tr>\n",
       "    <tr>\n",
       "      <th>31</th>\n",
       "      <td>Spain</td>\n",
       "      <td>90</td>\n",
       "    </tr>\n",
       "    <tr>\n",
       "      <th>27</th>\n",
       "      <td>Portugal</td>\n",
       "      <td>58</td>\n",
       "    </tr>\n",
       "    <tr>\n",
       "      <th>0</th>\n",
       "      <td>Australia</td>\n",
       "      <td>57</td>\n",
       "    </tr>\n",
       "    <tr>\n",
       "      <th>33</th>\n",
       "      <td>Switzerland</td>\n",
       "      <td>54</td>\n",
       "    </tr>\n",
       "    <tr>\n",
       "      <th>12</th>\n",
       "      <td>Finland</td>\n",
       "      <td>41</td>\n",
       "    </tr>\n",
       "    <tr>\n",
       "      <th>19</th>\n",
       "      <td>Italy</td>\n",
       "      <td>38</td>\n",
       "    </tr>\n",
       "    <tr>\n",
       "      <th>25</th>\n",
       "      <td>Norway</td>\n",
       "      <td>36</td>\n",
       "    </tr>\n",
       "    <tr>\n",
       "      <th>32</th>\n",
       "      <td>Sweden</td>\n",
       "      <td>36</td>\n",
       "    </tr>\n",
       "    <tr>\n",
       "      <th>6</th>\n",
       "      <td>Channel Islands</td>\n",
       "      <td>26</td>\n",
       "    </tr>\n",
       "    <tr>\n",
       "      <th>20</th>\n",
       "      <td>Japan</td>\n",
       "      <td>19</td>\n",
       "    </tr>\n",
       "    <tr>\n",
       "      <th>26</th>\n",
       "      <td>Poland</td>\n",
       "      <td>19</td>\n",
       "    </tr>\n",
       "    <tr>\n",
       "      <th>9</th>\n",
       "      <td>Denmark</td>\n",
       "      <td>18</td>\n",
       "    </tr>\n",
       "    <tr>\n",
       "      <th>1</th>\n",
       "      <td>Austria</td>\n",
       "      <td>17</td>\n",
       "    </tr>\n",
       "    <tr>\n",
       "      <th>7</th>\n",
       "      <td>Cyprus</td>\n",
       "      <td>16</td>\n",
       "    </tr>\n",
       "    <tr>\n",
       "      <th>37</th>\n",
       "      <td>Unspecified</td>\n",
       "      <td>13</td>\n",
       "    </tr>\n",
       "    <tr>\n",
       "      <th>16</th>\n",
       "      <td>Hong Kong</td>\n",
       "      <td>11</td>\n",
       "    </tr>\n",
       "    <tr>\n",
       "      <th>18</th>\n",
       "      <td>Israel</td>\n",
       "      <td>8</td>\n",
       "    </tr>\n",
       "    <tr>\n",
       "      <th>17</th>\n",
       "      <td>Iceland</td>\n",
       "      <td>7</td>\n",
       "    </tr>\n",
       "    <tr>\n",
       "      <th>30</th>\n",
       "      <td>Singapore</td>\n",
       "      <td>7</td>\n",
       "    </tr>\n",
       "    <tr>\n",
       "      <th>5</th>\n",
       "      <td>Canada</td>\n",
       "      <td>6</td>\n",
       "    </tr>\n",
       "    <tr>\n",
       "      <th>34</th>\n",
       "      <td>USA</td>\n",
       "      <td>5</td>\n",
       "    </tr>\n",
       "    <tr>\n",
       "      <th>23</th>\n",
       "      <td>Malta</td>\n",
       "      <td>5</td>\n",
       "    </tr>\n",
       "    <tr>\n",
       "      <th>15</th>\n",
       "      <td>Greece</td>\n",
       "      <td>5</td>\n",
       "    </tr>\n",
       "    <tr>\n",
       "      <th>11</th>\n",
       "      <td>European Community</td>\n",
       "      <td>4</td>\n",
       "    </tr>\n",
       "    <tr>\n",
       "      <th>22</th>\n",
       "      <td>Lithuania</td>\n",
       "      <td>4</td>\n",
       "    </tr>\n",
       "    <tr>\n",
       "      <th>2</th>\n",
       "      <td>Bahrain</td>\n",
       "      <td>3</td>\n",
       "    </tr>\n",
       "    <tr>\n",
       "      <th>35</th>\n",
       "      <td>United Arab Emirates</td>\n",
       "      <td>3</td>\n",
       "    </tr>\n",
       "    <tr>\n",
       "      <th>8</th>\n",
       "      <td>Czech Republic</td>\n",
       "      <td>2</td>\n",
       "    </tr>\n",
       "    <tr>\n",
       "      <th>21</th>\n",
       "      <td>Lebanon</td>\n",
       "      <td>1</td>\n",
       "    </tr>\n",
       "    <tr>\n",
       "      <th>4</th>\n",
       "      <td>Brazil</td>\n",
       "      <td>1</td>\n",
       "    </tr>\n",
       "    <tr>\n",
       "      <th>28</th>\n",
       "      <td>RSA</td>\n",
       "      <td>1</td>\n",
       "    </tr>\n",
       "    <tr>\n",
       "      <th>29</th>\n",
       "      <td>Saudi Arabia</td>\n",
       "      <td>1</td>\n",
       "    </tr>\n",
       "  </tbody>\n",
       "</table>\n",
       "</div>"
      ],
      "text/plain": [
       "                 Country  InvoiceNo\n",
       "36        United Kingdom      18192\n",
       "14               Germany        457\n",
       "13                France        392\n",
       "10                  EIRE        288\n",
       "3                Belgium         98\n",
       "24           Netherlands         95\n",
       "31                 Spain         90\n",
       "27              Portugal         58\n",
       "0              Australia         57\n",
       "33           Switzerland         54\n",
       "12               Finland         41\n",
       "19                 Italy         38\n",
       "25                Norway         36\n",
       "32                Sweden         36\n",
       "6        Channel Islands         26\n",
       "20                 Japan         19\n",
       "26                Poland         19\n",
       "9                Denmark         18\n",
       "1                Austria         17\n",
       "7                 Cyprus         16\n",
       "37           Unspecified         13\n",
       "16             Hong Kong         11\n",
       "18                Israel          8\n",
       "17               Iceland          7\n",
       "30             Singapore          7\n",
       "5                 Canada          6\n",
       "34                   USA          5\n",
       "23                 Malta          5\n",
       "15                Greece          5\n",
       "11    European Community          4\n",
       "22             Lithuania          4\n",
       "2                Bahrain          3\n",
       "35  United Arab Emirates          3\n",
       "8         Czech Republic          2\n",
       "21               Lebanon          1\n",
       "4                 Brazil          1\n",
       "28                   RSA          1\n",
       "29          Saudi Arabia          1"
      ]
     },
     "execution_count": 65,
     "metadata": {},
     "output_type": "execute_result"
    }
   ],
   "source": [
    "orders_per_country=df.groupby('Country',as_index=False)['InvoiceNo'].nunique().sort_values('InvoiceNo',ascending=False)\n",
    "orders_per_country"
   ]
  },
  {
   "cell_type": "code",
   "execution_count": 66,
   "id": "f5e08559",
   "metadata": {},
   "outputs": [
    {
     "data": {
      "text/html": [
       "<div>\n",
       "<style scoped>\n",
       "    .dataframe tbody tr th:only-of-type {\n",
       "        vertical-align: middle;\n",
       "    }\n",
       "\n",
       "    .dataframe tbody tr th {\n",
       "        vertical-align: top;\n",
       "    }\n",
       "\n",
       "    .dataframe thead th {\n",
       "        text-align: right;\n",
       "    }\n",
       "</style>\n",
       "<table border=\"1\" class=\"dataframe\">\n",
       "  <thead>\n",
       "    <tr style=\"text-align: right;\">\n",
       "      <th></th>\n",
       "      <th>Country</th>\n",
       "      <th>Orders Per Country</th>\n",
       "    </tr>\n",
       "  </thead>\n",
       "  <tbody>\n",
       "    <tr>\n",
       "      <th>36</th>\n",
       "      <td>United Kingdom</td>\n",
       "      <td>18192</td>\n",
       "    </tr>\n",
       "    <tr>\n",
       "      <th>14</th>\n",
       "      <td>Germany</td>\n",
       "      <td>457</td>\n",
       "    </tr>\n",
       "    <tr>\n",
       "      <th>13</th>\n",
       "      <td>France</td>\n",
       "      <td>392</td>\n",
       "    </tr>\n",
       "    <tr>\n",
       "      <th>10</th>\n",
       "      <td>EIRE</td>\n",
       "      <td>288</td>\n",
       "    </tr>\n",
       "    <tr>\n",
       "      <th>3</th>\n",
       "      <td>Belgium</td>\n",
       "      <td>98</td>\n",
       "    </tr>\n",
       "    <tr>\n",
       "      <th>24</th>\n",
       "      <td>Netherlands</td>\n",
       "      <td>95</td>\n",
       "    </tr>\n",
       "    <tr>\n",
       "      <th>31</th>\n",
       "      <td>Spain</td>\n",
       "      <td>90</td>\n",
       "    </tr>\n",
       "    <tr>\n",
       "      <th>27</th>\n",
       "      <td>Portugal</td>\n",
       "      <td>58</td>\n",
       "    </tr>\n",
       "    <tr>\n",
       "      <th>0</th>\n",
       "      <td>Australia</td>\n",
       "      <td>57</td>\n",
       "    </tr>\n",
       "    <tr>\n",
       "      <th>33</th>\n",
       "      <td>Switzerland</td>\n",
       "      <td>54</td>\n",
       "    </tr>\n",
       "    <tr>\n",
       "      <th>12</th>\n",
       "      <td>Finland</td>\n",
       "      <td>41</td>\n",
       "    </tr>\n",
       "    <tr>\n",
       "      <th>19</th>\n",
       "      <td>Italy</td>\n",
       "      <td>38</td>\n",
       "    </tr>\n",
       "    <tr>\n",
       "      <th>25</th>\n",
       "      <td>Norway</td>\n",
       "      <td>36</td>\n",
       "    </tr>\n",
       "    <tr>\n",
       "      <th>32</th>\n",
       "      <td>Sweden</td>\n",
       "      <td>36</td>\n",
       "    </tr>\n",
       "    <tr>\n",
       "      <th>6</th>\n",
       "      <td>Channel Islands</td>\n",
       "      <td>26</td>\n",
       "    </tr>\n",
       "    <tr>\n",
       "      <th>20</th>\n",
       "      <td>Japan</td>\n",
       "      <td>19</td>\n",
       "    </tr>\n",
       "    <tr>\n",
       "      <th>26</th>\n",
       "      <td>Poland</td>\n",
       "      <td>19</td>\n",
       "    </tr>\n",
       "    <tr>\n",
       "      <th>9</th>\n",
       "      <td>Denmark</td>\n",
       "      <td>18</td>\n",
       "    </tr>\n",
       "    <tr>\n",
       "      <th>1</th>\n",
       "      <td>Austria</td>\n",
       "      <td>17</td>\n",
       "    </tr>\n",
       "    <tr>\n",
       "      <th>7</th>\n",
       "      <td>Cyprus</td>\n",
       "      <td>16</td>\n",
       "    </tr>\n",
       "    <tr>\n",
       "      <th>37</th>\n",
       "      <td>Unspecified</td>\n",
       "      <td>13</td>\n",
       "    </tr>\n",
       "    <tr>\n",
       "      <th>16</th>\n",
       "      <td>Hong Kong</td>\n",
       "      <td>11</td>\n",
       "    </tr>\n",
       "    <tr>\n",
       "      <th>18</th>\n",
       "      <td>Israel</td>\n",
       "      <td>8</td>\n",
       "    </tr>\n",
       "    <tr>\n",
       "      <th>17</th>\n",
       "      <td>Iceland</td>\n",
       "      <td>7</td>\n",
       "    </tr>\n",
       "    <tr>\n",
       "      <th>30</th>\n",
       "      <td>Singapore</td>\n",
       "      <td>7</td>\n",
       "    </tr>\n",
       "    <tr>\n",
       "      <th>5</th>\n",
       "      <td>Canada</td>\n",
       "      <td>6</td>\n",
       "    </tr>\n",
       "    <tr>\n",
       "      <th>34</th>\n",
       "      <td>USA</td>\n",
       "      <td>5</td>\n",
       "    </tr>\n",
       "    <tr>\n",
       "      <th>23</th>\n",
       "      <td>Malta</td>\n",
       "      <td>5</td>\n",
       "    </tr>\n",
       "    <tr>\n",
       "      <th>15</th>\n",
       "      <td>Greece</td>\n",
       "      <td>5</td>\n",
       "    </tr>\n",
       "    <tr>\n",
       "      <th>11</th>\n",
       "      <td>European Community</td>\n",
       "      <td>4</td>\n",
       "    </tr>\n",
       "    <tr>\n",
       "      <th>22</th>\n",
       "      <td>Lithuania</td>\n",
       "      <td>4</td>\n",
       "    </tr>\n",
       "    <tr>\n",
       "      <th>2</th>\n",
       "      <td>Bahrain</td>\n",
       "      <td>3</td>\n",
       "    </tr>\n",
       "    <tr>\n",
       "      <th>35</th>\n",
       "      <td>United Arab Emirates</td>\n",
       "      <td>3</td>\n",
       "    </tr>\n",
       "    <tr>\n",
       "      <th>8</th>\n",
       "      <td>Czech Republic</td>\n",
       "      <td>2</td>\n",
       "    </tr>\n",
       "    <tr>\n",
       "      <th>21</th>\n",
       "      <td>Lebanon</td>\n",
       "      <td>1</td>\n",
       "    </tr>\n",
       "    <tr>\n",
       "      <th>4</th>\n",
       "      <td>Brazil</td>\n",
       "      <td>1</td>\n",
       "    </tr>\n",
       "    <tr>\n",
       "      <th>28</th>\n",
       "      <td>RSA</td>\n",
       "      <td>1</td>\n",
       "    </tr>\n",
       "    <tr>\n",
       "      <th>29</th>\n",
       "      <td>Saudi Arabia</td>\n",
       "      <td>1</td>\n",
       "    </tr>\n",
       "  </tbody>\n",
       "</table>\n",
       "</div>"
      ],
      "text/plain": [
       "                 Country  Orders Per Country\n",
       "36        United Kingdom               18192\n",
       "14               Germany                 457\n",
       "13                France                 392\n",
       "10                  EIRE                 288\n",
       "3                Belgium                  98\n",
       "24           Netherlands                  95\n",
       "31                 Spain                  90\n",
       "27              Portugal                  58\n",
       "0              Australia                  57\n",
       "33           Switzerland                  54\n",
       "12               Finland                  41\n",
       "19                 Italy                  38\n",
       "25                Norway                  36\n",
       "32                Sweden                  36\n",
       "6        Channel Islands                  26\n",
       "20                 Japan                  19\n",
       "26                Poland                  19\n",
       "9                Denmark                  18\n",
       "1                Austria                  17\n",
       "7                 Cyprus                  16\n",
       "37           Unspecified                  13\n",
       "16             Hong Kong                  11\n",
       "18                Israel                   8\n",
       "17               Iceland                   7\n",
       "30             Singapore                   7\n",
       "5                 Canada                   6\n",
       "34                   USA                   5\n",
       "23                 Malta                   5\n",
       "15                Greece                   5\n",
       "11    European Community                   4\n",
       "22             Lithuania                   4\n",
       "2                Bahrain                   3\n",
       "35  United Arab Emirates                   3\n",
       "8         Czech Republic                   2\n",
       "21               Lebanon                   1\n",
       "4                 Brazil                   1\n",
       "28                   RSA                   1\n",
       "29          Saudi Arabia                   1"
      ]
     },
     "execution_count": 66,
     "metadata": {},
     "output_type": "execute_result"
    }
   ],
   "source": [
    "\n",
    "orders_per_country = orders_per_country.rename(columns={'InvoiceNo':'Orders Per Country'})\n",
    "orders_per_country"
   ]
  },
  {
   "cell_type": "markdown",
   "id": "29662527",
   "metadata": {},
   "source": [
    "The above table shows the orders received from different countries."
   ]
  },
  {
   "cell_type": "markdown",
   "id": "af8d52a8",
   "metadata": {},
   "source": [
    "We can see that most no.of orders are from UK itself since it is a UK based store.So lets check how orders from other countries are distributed."
   ]
  },
  {
   "cell_type": "code",
   "execution_count": 67,
   "id": "456cd66b",
   "metadata": {},
   "outputs": [],
   "source": [
    "# drop the UK data from above table.\n",
    "\n",
    "orders_per_country = orders_per_country.drop(labels=36)"
   ]
  },
  {
   "cell_type": "code",
   "execution_count": 68,
   "id": "58727f54",
   "metadata": {
    "scrolled": true
   },
   "outputs": [
    {
     "data": {
      "text/plain": [
       "[Text(0, 0, 'Germany'),\n",
       " Text(1, 0, 'France'),\n",
       " Text(2, 0, 'EIRE'),\n",
       " Text(3, 0, 'Belgium'),\n",
       " Text(4, 0, 'Netherlands'),\n",
       " Text(5, 0, 'Spain'),\n",
       " Text(6, 0, 'Portugal'),\n",
       " Text(7, 0, 'Australia'),\n",
       " Text(8, 0, 'Switzerland'),\n",
       " Text(9, 0, 'Finland'),\n",
       " Text(10, 0, 'Italy'),\n",
       " Text(11, 0, 'Norway'),\n",
       " Text(12, 0, 'Sweden'),\n",
       " Text(13, 0, 'Channel Islands'),\n",
       " Text(14, 0, 'Japan'),\n",
       " Text(15, 0, 'Poland'),\n",
       " Text(16, 0, 'Denmark'),\n",
       " Text(17, 0, 'Austria'),\n",
       " Text(18, 0, 'Cyprus'),\n",
       " Text(19, 0, 'Unspecified'),\n",
       " Text(20, 0, 'Hong Kong'),\n",
       " Text(21, 0, 'Israel'),\n",
       " Text(22, 0, 'Iceland'),\n",
       " Text(23, 0, 'Singapore'),\n",
       " Text(24, 0, 'Canada'),\n",
       " Text(25, 0, 'USA'),\n",
       " Text(26, 0, 'Malta'),\n",
       " Text(27, 0, 'Greece'),\n",
       " Text(28, 0, 'European Community'),\n",
       " Text(29, 0, 'Lithuania'),\n",
       " Text(30, 0, 'Bahrain'),\n",
       " Text(31, 0, 'United Arab Emirates'),\n",
       " Text(32, 0, 'Czech Republic'),\n",
       " Text(33, 0, 'Lebanon'),\n",
       " Text(34, 0, 'Brazil'),\n",
       " Text(35, 0, 'RSA'),\n",
       " Text(36, 0, 'Saudi Arabia')]"
      ]
     },
     "execution_count": 68,
     "metadata": {},
     "output_type": "execute_result"
    },
    {
     "data": {
      "image/png": "[encoded data removed]",
      "text/plain": [
       "<Figure size 1440x288 with 1 Axes>"
      ]
     },
     "metadata": {
      "needs_background": "light"
     },
     "output_type": "display_data"
    }
   ],
   "source": [
    "opc = orders_per_country.plot(kind='bar',figsize=(20,4))\n",
    "\n",
    "opc.set_xlabel('Country',fontsize=15)\n",
    "opc.set_ylabel('Number of Orders',fontsize=15)\n",
    "opc.set_title('Orders Generated Per each Country',fontsize=20)\n",
    "opc.set_xticklabels(orders_per_country['Country'].unique(),rotation='vertical', fontsize=15)"
   ]
  },
  {
   "cell_type": "markdown",
   "id": "58d514d3",
   "metadata": {},
   "source": [
    "Apart from UK , the most no.of orders are got from Germany,France and EIRE"
   ]
  },
  {
   "cell_type": "markdown",
   "id": "ce195520",
   "metadata": {},
   "source": [
    "## 14. Orders trend across months \n"
   ]
  },
  {
   "cell_type": "markdown",
   "id": "a7824a2f",
   "metadata": {},
   "source": [
    "We ahve already generated a table for orders_per_month.   Let's make use of that here to plot the trend line"
   ]
  },
  {
   "cell_type": "code",
   "execution_count": 69,
   "id": "c7c541f9",
   "metadata": {},
   "outputs": [
    {
     "data": {
      "text/plain": [
       "Text(0.5, 1.0, 'Trend Of Orders Across Months')"
      ]
     },
     "execution_count": 69,
     "metadata": {},
     "output_type": "execute_result"
    },
    {
     "data": {
      "image/png": "[encoded data removed]",
      "text/plain": [
       "<Figure size 1080x216 with 1 Axes>"
      ]
     },
     "metadata": {
      "needs_background": "light"
     },
     "output_type": "display_data"
    }
   ],
   "source": [
    "\n",
    "plt.subplots(figsize=(15,3))\n",
    "plt.plot(orders_per_month.Month, orders_per_month['Orders Per Month'])\n",
    "plt.xlabel('Month')\n",
    "plt.xticks(range(1,13,1))\n",
    "plt.ylabel('No.of orders made')\n",
    "plt.title('Trend Of Orders Across Months',fontsize=20)\n"
   ]
  },
  {
   "cell_type": "markdown",
   "id": "854eb40f",
   "metadata": {},
   "source": [
    "There is an uptrend in the orders received along the months.The no.of orders received goes on increasing from jan to Nov.There is a slight decrease in orders received in the Month of Dec."
   ]
  },
  {
   "cell_type": "markdown",
   "id": "9b9526cd",
   "metadata": {},
   "source": [
    "## 15. How much money spent by each country?"
   ]
  },
  {
   "cell_type": "markdown",
   "id": "75bfc4eb",
   "metadata": {},
   "source": [
    "We have already made a column 'Amount_Spent'] showing the money spent.Let's make use of that and find out how much money is spent by each countries."
   ]
  },
  {
   "cell_type": "code",
   "execution_count": 70,
   "id": "61c37548",
   "metadata": {},
   "outputs": [
    {
     "data": {
      "text/html": [
       "<div>\n",
       "<style scoped>\n",
       "    .dataframe tbody tr th:only-of-type {\n",
       "        vertical-align: middle;\n",
       "    }\n",
       "\n",
       "    .dataframe tbody tr th {\n",
       "        vertical-align: top;\n",
       "    }\n",
       "\n",
       "    .dataframe thead th {\n",
       "        text-align: right;\n",
       "    }\n",
       "</style>\n",
       "<table border=\"1\" class=\"dataframe\">\n",
       "  <thead>\n",
       "    <tr style=\"text-align: right;\">\n",
       "      <th></th>\n",
       "      <th>Country</th>\n",
       "      <th>Amount_Spent</th>\n",
       "    </tr>\n",
       "  </thead>\n",
       "  <tbody>\n",
       "    <tr>\n",
       "      <th>36</th>\n",
       "      <td>United Kingdom</td>\n",
       "      <td>8.957894e+06</td>\n",
       "    </tr>\n",
       "    <tr>\n",
       "      <th>24</th>\n",
       "      <td>Netherlands</td>\n",
       "      <td>2.854463e+05</td>\n",
       "    </tr>\n",
       "    <tr>\n",
       "      <th>10</th>\n",
       "      <td>EIRE</td>\n",
       "      <td>2.828271e+05</td>\n",
       "    </tr>\n",
       "    <tr>\n",
       "      <th>14</th>\n",
       "      <td>Germany</td>\n",
       "      <td>2.284897e+05</td>\n",
       "    </tr>\n",
       "    <tr>\n",
       "      <th>13</th>\n",
       "      <td>France</td>\n",
       "      <td>2.095356e+05</td>\n",
       "    </tr>\n",
       "    <tr>\n",
       "      <th>0</th>\n",
       "      <td>Australia</td>\n",
       "      <td>1.383863e+05</td>\n",
       "    </tr>\n",
       "    <tr>\n",
       "      <th>31</th>\n",
       "      <td>Spain</td>\n",
       "      <td>6.154001e+04</td>\n",
       "    </tr>\n",
       "    <tr>\n",
       "      <th>33</th>\n",
       "      <td>Switzerland</td>\n",
       "      <td>5.704530e+04</td>\n",
       "    </tr>\n",
       "    <tr>\n",
       "      <th>3</th>\n",
       "      <td>Belgium</td>\n",
       "      <td>4.119634e+04</td>\n",
       "    </tr>\n",
       "    <tr>\n",
       "      <th>32</th>\n",
       "      <td>Sweden</td>\n",
       "      <td>3.835733e+04</td>\n",
       "    </tr>\n",
       "    <tr>\n",
       "      <th>20</th>\n",
       "      <td>Japan</td>\n",
       "      <td>3.741637e+04</td>\n",
       "    </tr>\n",
       "    <tr>\n",
       "      <th>25</th>\n",
       "      <td>Norway</td>\n",
       "      <td>3.616544e+04</td>\n",
       "    </tr>\n",
       "    <tr>\n",
       "      <th>27</th>\n",
       "      <td>Portugal</td>\n",
       "      <td>3.362155e+04</td>\n",
       "    </tr>\n",
       "    <tr>\n",
       "      <th>12</th>\n",
       "      <td>Finland</td>\n",
       "      <td>2.254608e+04</td>\n",
       "    </tr>\n",
       "    <tr>\n",
       "      <th>30</th>\n",
       "      <td>Singapore</td>\n",
       "      <td>2.127929e+04</td>\n",
       "    </tr>\n",
       "    <tr>\n",
       "      <th>6</th>\n",
       "      <td>Channel Islands</td>\n",
       "      <td>2.043064e+04</td>\n",
       "    </tr>\n",
       "    <tr>\n",
       "      <th>9</th>\n",
       "      <td>Denmark</td>\n",
       "      <td>1.895534e+04</td>\n",
       "    </tr>\n",
       "    <tr>\n",
       "      <th>19</th>\n",
       "      <td>Italy</td>\n",
       "      <td>1.748324e+04</td>\n",
       "    </tr>\n",
       "    <tr>\n",
       "      <th>16</th>\n",
       "      <td>Hong Kong</td>\n",
       "      <td>1.527420e+04</td>\n",
       "    </tr>\n",
       "    <tr>\n",
       "      <th>7</th>\n",
       "      <td>Cyprus</td>\n",
       "      <td>1.341947e+04</td>\n",
       "    </tr>\n",
       "    <tr>\n",
       "      <th>1</th>\n",
       "      <td>Austria</td>\n",
       "      <td>1.019868e+04</td>\n",
       "    </tr>\n",
       "    <tr>\n",
       "      <th>18</th>\n",
       "      <td>Israel</td>\n",
       "      <td>8.123560e+03</td>\n",
       "    </tr>\n",
       "    <tr>\n",
       "      <th>26</th>\n",
       "      <td>Poland</td>\n",
       "      <td>7.334650e+03</td>\n",
       "    </tr>\n",
       "    <tr>\n",
       "      <th>15</th>\n",
       "      <td>Greece</td>\n",
       "      <td>4.760520e+03</td>\n",
       "    </tr>\n",
       "    <tr>\n",
       "      <th>37</th>\n",
       "      <td>Unspecified</td>\n",
       "      <td>4.732090e+03</td>\n",
       "    </tr>\n",
       "    <tr>\n",
       "      <th>17</th>\n",
       "      <td>Iceland</td>\n",
       "      <td>4.310000e+03</td>\n",
       "    </tr>\n",
       "    <tr>\n",
       "      <th>5</th>\n",
       "      <td>Canada</td>\n",
       "      <td>3.666380e+03</td>\n",
       "    </tr>\n",
       "    <tr>\n",
       "      <th>34</th>\n",
       "      <td>USA</td>\n",
       "      <td>3.580390e+03</td>\n",
       "    </tr>\n",
       "    <tr>\n",
       "      <th>23</th>\n",
       "      <td>Malta</td>\n",
       "      <td>2.725590e+03</td>\n",
       "    </tr>\n",
       "    <tr>\n",
       "      <th>35</th>\n",
       "      <td>United Arab Emirates</td>\n",
       "      <td>1.902280e+03</td>\n",
       "    </tr>\n",
       "    <tr>\n",
       "      <th>21</th>\n",
       "      <td>Lebanon</td>\n",
       "      <td>1.693880e+03</td>\n",
       "    </tr>\n",
       "    <tr>\n",
       "      <th>22</th>\n",
       "      <td>Lithuania</td>\n",
       "      <td>1.661060e+03</td>\n",
       "    </tr>\n",
       "    <tr>\n",
       "      <th>11</th>\n",
       "      <td>European Community</td>\n",
       "      <td>1.300250e+03</td>\n",
       "    </tr>\n",
       "    <tr>\n",
       "      <th>4</th>\n",
       "      <td>Brazil</td>\n",
       "      <td>1.143600e+03</td>\n",
       "    </tr>\n",
       "    <tr>\n",
       "      <th>28</th>\n",
       "      <td>RSA</td>\n",
       "      <td>1.002310e+03</td>\n",
       "    </tr>\n",
       "    <tr>\n",
       "      <th>8</th>\n",
       "      <td>Czech Republic</td>\n",
       "      <td>8.267400e+02</td>\n",
       "    </tr>\n",
       "    <tr>\n",
       "      <th>2</th>\n",
       "      <td>Bahrain</td>\n",
       "      <td>7.541400e+02</td>\n",
       "    </tr>\n",
       "    <tr>\n",
       "      <th>29</th>\n",
       "      <td>Saudi Arabia</td>\n",
       "      <td>1.459200e+02</td>\n",
       "    </tr>\n",
       "  </tbody>\n",
       "</table>\n",
       "</div>"
      ],
      "text/plain": [
       "                 Country  Amount_Spent\n",
       "36        United Kingdom  8.957894e+06\n",
       "24           Netherlands  2.854463e+05\n",
       "10                  EIRE  2.828271e+05\n",
       "14               Germany  2.284897e+05\n",
       "13                France  2.095356e+05\n",
       "0              Australia  1.383863e+05\n",
       "31                 Spain  6.154001e+04\n",
       "33           Switzerland  5.704530e+04\n",
       "3                Belgium  4.119634e+04\n",
       "32                Sweden  3.835733e+04\n",
       "20                 Japan  3.741637e+04\n",
       "25                Norway  3.616544e+04\n",
       "27              Portugal  3.362155e+04\n",
       "12               Finland  2.254608e+04\n",
       "30             Singapore  2.127929e+04\n",
       "6        Channel Islands  2.043064e+04\n",
       "9                Denmark  1.895534e+04\n",
       "19                 Italy  1.748324e+04\n",
       "16             Hong Kong  1.527420e+04\n",
       "7                 Cyprus  1.341947e+04\n",
       "1                Austria  1.019868e+04\n",
       "18                Israel  8.123560e+03\n",
       "26                Poland  7.334650e+03\n",
       "15                Greece  4.760520e+03\n",
       "37           Unspecified  4.732090e+03\n",
       "17               Iceland  4.310000e+03\n",
       "5                 Canada  3.666380e+03\n",
       "34                   USA  3.580390e+03\n",
       "23                 Malta  2.725590e+03\n",
       "35  United Arab Emirates  1.902280e+03\n",
       "21               Lebanon  1.693880e+03\n",
       "22             Lithuania  1.661060e+03\n",
       "11    European Community  1.300250e+03\n",
       "4                 Brazil  1.143600e+03\n",
       "28                   RSA  1.002310e+03\n",
       "8         Czech Republic  8.267400e+02\n",
       "2                Bahrain  7.541400e+02\n",
       "29          Saudi Arabia  1.459200e+02"
      ]
     },
     "execution_count": 70,
     "metadata": {},
     "output_type": "execute_result"
    }
   ],
   "source": [
    "money_spent_by_countries = df.groupby('Country', as_index=False)['Amount_Spent'].sum().sort_values('Amount_Spent',ascending=False)\n",
    "money_spent_by_countries"
   ]
  },
  {
   "cell_type": "markdown",
   "id": "d25714b8",
   "metadata": {},
   "source": [
    "Now we got the amount of money spent by all the countries."
   ]
  },
  {
   "cell_type": "code",
   "execution_count": 71,
   "id": "788bbd73",
   "metadata": {},
   "outputs": [
    {
     "data": {
      "text/plain": [
       "[Text(0, 0, 'United Kingdom'),\n",
       " Text(0, 1, 'Netherlands'),\n",
       " Text(0, 2, 'EIRE'),\n",
       " Text(0, 3, 'Germany'),\n",
       " Text(0, 4, 'France'),\n",
       " Text(0, 5, 'Australia'),\n",
       " Text(0, 6, 'Spain'),\n",
       " Text(0, 7, 'Switzerland'),\n",
       " Text(0, 8, 'Belgium'),\n",
       " Text(0, 9, 'Sweden'),\n",
       " Text(0, 10, 'Japan'),\n",
       " Text(0, 11, 'Norway'),\n",
       " Text(0, 12, 'Portugal'),\n",
       " Text(0, 13, 'Finland'),\n",
       " Text(0, 14, 'Singapore'),\n",
       " Text(0, 15, 'Channel Islands'),\n",
       " Text(0, 16, 'Denmark'),\n",
       " Text(0, 17, 'Italy'),\n",
       " Text(0, 18, 'Hong Kong'),\n",
       " Text(0, 19, 'Cyprus'),\n",
       " Text(0, 20, 'Austria'),\n",
       " Text(0, 21, 'Israel'),\n",
       " Text(0, 22, 'Poland'),\n",
       " Text(0, 23, 'Greece'),\n",
       " Text(0, 24, 'Unspecified'),\n",
       " Text(0, 25, 'Iceland'),\n",
       " Text(0, 26, 'Canada'),\n",
       " Text(0, 27, 'USA'),\n",
       " Text(0, 28, 'Malta'),\n",
       " Text(0, 29, 'United Arab Emirates'),\n",
       " Text(0, 30, 'Lebanon'),\n",
       " Text(0, 31, 'Lithuania'),\n",
       " Text(0, 32, 'European Community'),\n",
       " Text(0, 33, 'Brazil'),\n",
       " Text(0, 34, 'RSA'),\n",
       " Text(0, 35, 'Czech Republic'),\n",
       " Text(0, 36, 'Bahrain'),\n",
       " Text(0, 37, 'Saudi Arabia')]"
      ]
     },
     "execution_count": 71,
     "metadata": {},
     "output_type": "execute_result"
    },
    {
     "data": {
      "image/png": "[encoded data removed]",
      "text/plain": [
       "<Figure size 1800x720 with 1 Axes>"
      ]
     },
     "metadata": {
      "needs_background": "light"
     },
     "output_type": "display_data"
    }
   ],
   "source": [
    "msc = money_spent_by_countries.plot(kind='barh',figsize=(25,10))\n",
    "\n",
    "msc.set_xlabel('Money Spent ',fontsize=15)\n",
    "msc.set_ylabel('Country',fontsize=15)\n",
    "msc.set_title('Money Spent By Each Countries',fontsize=25)\n",
    "msc.set_yticklabels(money_spent_by_countries.Country, rotation='horizontal', fontsize=15)"
   ]
  },
  {
   "cell_type": "markdown",
   "id": "3595c54e",
   "metadata": {},
   "source": [
    "It is obvious that most no.of orders are from UK so the amount_spent will also be more there."
   ]
  },
  {
   "cell_type": "markdown",
   "id": "d433f1c3",
   "metadata": {},
   "source": [
    "Let's check amount spent by all other countries except United Kingdom."
   ]
  },
  {
   "cell_type": "code",
   "execution_count": 72,
   "id": "39248b43",
   "metadata": {},
   "outputs": [],
   "source": [
    "money_spent_by_countries = money_spent_by_countries.drop(labels=36)"
   ]
  },
  {
   "cell_type": "code",
   "execution_count": 73,
   "id": "20221b8e",
   "metadata": {},
   "outputs": [
    {
     "data": {
      "text/plain": [
       "[Text(0, 0, 'Netherlands'),\n",
       " Text(0, 1, 'EIRE'),\n",
       " Text(0, 2, 'Germany'),\n",
       " Text(0, 3, 'France'),\n",
       " Text(0, 4, 'Australia'),\n",
       " Text(0, 5, 'Spain'),\n",
       " Text(0, 6, 'Switzerland'),\n",
       " Text(0, 7, 'Belgium'),\n",
       " Text(0, 8, 'Sweden'),\n",
       " Text(0, 9, 'Japan'),\n",
       " Text(0, 10, 'Norway'),\n",
       " Text(0, 11, 'Portugal'),\n",
       " Text(0, 12, 'Finland'),\n",
       " Text(0, 13, 'Singapore'),\n",
       " Text(0, 14, 'Channel Islands'),\n",
       " Text(0, 15, 'Denmark'),\n",
       " Text(0, 16, 'Italy'),\n",
       " Text(0, 17, 'Hong Kong'),\n",
       " Text(0, 18, 'Cyprus'),\n",
       " Text(0, 19, 'Austria'),\n",
       " Text(0, 20, 'Israel'),\n",
       " Text(0, 21, 'Poland'),\n",
       " Text(0, 22, 'Greece'),\n",
       " Text(0, 23, 'Unspecified'),\n",
       " Text(0, 24, 'Iceland'),\n",
       " Text(0, 25, 'Canada'),\n",
       " Text(0, 26, 'USA'),\n",
       " Text(0, 27, 'Malta'),\n",
       " Text(0, 28, 'United Arab Emirates'),\n",
       " Text(0, 29, 'Lebanon'),\n",
       " Text(0, 30, 'Lithuania'),\n",
       " Text(0, 31, 'European Community'),\n",
       " Text(0, 32, 'Brazil'),\n",
       " Text(0, 33, 'RSA'),\n",
       " Text(0, 34, 'Czech Republic'),\n",
       " Text(0, 35, 'Bahrain'),\n",
       " Text(0, 36, 'Saudi Arabia')]"
      ]
     },
     "execution_count": 73,
     "metadata": {},
     "output_type": "execute_result"
    },
    {
     "data": {
      "image/png": "[encoded data removed]",
      "text/plain": [
       "<Figure size 1800x720 with 1 Axes>"
      ]
     },
     "metadata": {
      "needs_background": "light"
     },
     "output_type": "display_data"
    }
   ],
   "source": [
    "msc = money_spent_by_countries.plot(kind='barh',figsize=(25,10))\n",
    "\n",
    "msc.set_xlabel('Money Spent ',fontsize=15)\n",
    "msc.set_ylabel('Country',fontsize=15)\n",
    "msc.set_title('Money Spent By Each Countries',fontsize=25)\n",
    "msc.set_yticklabels(money_spent_by_countries.Country, rotation='horizontal', fontsize=15)"
   ]
  },
  {
   "cell_type": "markdown",
   "id": "c9c0c607",
   "metadata": {},
   "source": [
    "Apart from UK, Netherland,EIRE,Germany,France and Australia are the countries that contributes most to the revenue of our company."
   ]
  },
  {
   "cell_type": "markdown",
   "id": "77356705",
   "metadata": {},
   "source": [
    "$  A $ $brief$  $analysis$  $by$  $Alwin Mathew  $"
   ]
  }
 ],
 "metadata": {
  "kernelspec": {
   "display_name": "Python 3",
   "language": "python",
   "name": "python3"
  },
  "language_info": {
   "codemirror_mode": {
    "name": "ipython",
    "version": 3
   },
   "file_extension": ".py",
   "mimetype": "text/x-python",
   "name": "python",
   "nbconvert_exporter": "python",
   "pygments_lexer": "ipython3",
   "version": "3.8.8"
  }
 },
 "nbformat": 4,
 "nbformat_minor": 5
}
